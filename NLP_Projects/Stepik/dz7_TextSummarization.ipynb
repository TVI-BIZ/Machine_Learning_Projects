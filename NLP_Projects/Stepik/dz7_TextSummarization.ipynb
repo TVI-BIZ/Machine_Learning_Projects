{
  "nbformat": 4,
  "nbformat_minor": 0,
  "metadata": {
    "accelerator": "GPU",
    "colab": {
      "name": "7_mod_attempt_TextSummarization.ipynb",
      "provenance": [],
      "collapsed_sections": []
    },
    "kernelspec": {
      "display_name": "Python 3",
      "language": "python",
      "name": "python3"
    },
    "language_info": {
      "codemirror_mode": {
        "name": "ipython",
        "version": 3
      },
      "file_extension": ".py",
      "mimetype": "text/x-python",
      "name": "python",
      "nbconvert_exporter": "python",
      "pygments_lexer": "ipython3",
      "version": "3.7.7"
    },
    "widgets": {
      "application/vnd.jupyter.widget-state+json": {
        "e2088dac07dc4fe6937f256b92441a75": {
          "model_module": "@jupyter-widgets/controls",
          "model_name": "HBoxModel",
          "state": {
            "_view_name": "HBoxView",
            "_dom_classes": [],
            "_model_name": "HBoxModel",
            "_view_module": "@jupyter-widgets/controls",
            "_model_module_version": "1.5.0",
            "_view_count": null,
            "_view_module_version": "1.5.0",
            "box_style": "",
            "layout": "IPY_MODEL_3155d56d3f6340d5bd8a869f7ed20abd",
            "_model_module": "@jupyter-widgets/controls",
            "children": [
              "IPY_MODEL_1b8dcfb9107a4a878ab5c04ace905ec7",
              "IPY_MODEL_dc33005a0028465f809ed1dbe36abe4b"
            ]
          }
        },
        "3155d56d3f6340d5bd8a869f7ed20abd": {
          "model_module": "@jupyter-widgets/base",
          "model_name": "LayoutModel",
          "state": {
            "_view_name": "LayoutView",
            "grid_template_rows": null,
            "right": null,
            "justify_content": null,
            "_view_module": "@jupyter-widgets/base",
            "overflow": null,
            "_model_module_version": "1.2.0",
            "_view_count": null,
            "flex_flow": null,
            "width": null,
            "min_width": null,
            "border": null,
            "align_items": null,
            "bottom": null,
            "_model_module": "@jupyter-widgets/base",
            "top": null,
            "grid_column": null,
            "overflow_y": null,
            "overflow_x": null,
            "grid_auto_flow": null,
            "grid_area": null,
            "grid_template_columns": null,
            "flex": null,
            "_model_name": "LayoutModel",
            "justify_items": null,
            "grid_row": null,
            "max_height": null,
            "align_content": null,
            "visibility": null,
            "align_self": null,
            "height": null,
            "min_height": null,
            "padding": null,
            "grid_auto_rows": null,
            "grid_gap": null,
            "max_width": null,
            "order": null,
            "_view_module_version": "1.2.0",
            "grid_template_areas": null,
            "object_position": null,
            "object_fit": null,
            "grid_auto_columns": null,
            "margin": null,
            "display": null,
            "left": null
          }
        },
        "1b8dcfb9107a4a878ab5c04ace905ec7": {
          "model_module": "@jupyter-widgets/controls",
          "model_name": "FloatProgressModel",
          "state": {
            "_view_name": "ProgressView",
            "style": "IPY_MODEL_e7d1dc432b80428f83e04d73fe466a11",
            "_dom_classes": [],
            "description": "100%",
            "_model_name": "FloatProgressModel",
            "bar_style": "success",
            "max": 1000,
            "_view_module": "@jupyter-widgets/controls",
            "_model_module_version": "1.5.0",
            "value": 1000,
            "_view_count": null,
            "_view_module_version": "1.5.0",
            "orientation": "horizontal",
            "min": 0,
            "description_tooltip": null,
            "_model_module": "@jupyter-widgets/controls",
            "layout": "IPY_MODEL_f7968f849d7b4f65bffa0f7d456c67f2"
          }
        },
        "dc33005a0028465f809ed1dbe36abe4b": {
          "model_module": "@jupyter-widgets/controls",
          "model_name": "HTMLModel",
          "state": {
            "_view_name": "HTMLView",
            "style": "IPY_MODEL_5a4fae9022a14ed9993a750eacce1e46",
            "_dom_classes": [],
            "description": "",
            "_model_name": "HTMLModel",
            "placeholder": "​",
            "_view_module": "@jupyter-widgets/controls",
            "_model_module_version": "1.5.0",
            "value": " 1000/1000 [02:14&lt;00:00,  7.45it/s]",
            "_view_count": null,
            "_view_module_version": "1.5.0",
            "description_tooltip": null,
            "_model_module": "@jupyter-widgets/controls",
            "layout": "IPY_MODEL_224c749a3dcb479b8a1e9fc1255166ba"
          }
        },
        "e7d1dc432b80428f83e04d73fe466a11": {
          "model_module": "@jupyter-widgets/controls",
          "model_name": "ProgressStyleModel",
          "state": {
            "_view_name": "StyleView",
            "_model_name": "ProgressStyleModel",
            "description_width": "initial",
            "_view_module": "@jupyter-widgets/base",
            "_model_module_version": "1.5.0",
            "_view_count": null,
            "_view_module_version": "1.2.0",
            "bar_color": null,
            "_model_module": "@jupyter-widgets/controls"
          }
        },
        "f7968f849d7b4f65bffa0f7d456c67f2": {
          "model_module": "@jupyter-widgets/base",
          "model_name": "LayoutModel",
          "state": {
            "_view_name": "LayoutView",
            "grid_template_rows": null,
            "right": null,
            "justify_content": null,
            "_view_module": "@jupyter-widgets/base",
            "overflow": null,
            "_model_module_version": "1.2.0",
            "_view_count": null,
            "flex_flow": null,
            "width": null,
            "min_width": null,
            "border": null,
            "align_items": null,
            "bottom": null,
            "_model_module": "@jupyter-widgets/base",
            "top": null,
            "grid_column": null,
            "overflow_y": null,
            "overflow_x": null,
            "grid_auto_flow": null,
            "grid_area": null,
            "grid_template_columns": null,
            "flex": null,
            "_model_name": "LayoutModel",
            "justify_items": null,
            "grid_row": null,
            "max_height": null,
            "align_content": null,
            "visibility": null,
            "align_self": null,
            "height": null,
            "min_height": null,
            "padding": null,
            "grid_auto_rows": null,
            "grid_gap": null,
            "max_width": null,
            "order": null,
            "_view_module_version": "1.2.0",
            "grid_template_areas": null,
            "object_position": null,
            "object_fit": null,
            "grid_auto_columns": null,
            "margin": null,
            "display": null,
            "left": null
          }
        },
        "5a4fae9022a14ed9993a750eacce1e46": {
          "model_module": "@jupyter-widgets/controls",
          "model_name": "DescriptionStyleModel",
          "state": {
            "_view_name": "StyleView",
            "_model_name": "DescriptionStyleModel",
            "description_width": "",
            "_view_module": "@jupyter-widgets/base",
            "_model_module_version": "1.5.0",
            "_view_count": null,
            "_view_module_version": "1.2.0",
            "_model_module": "@jupyter-widgets/controls"
          }
        },
        "224c749a3dcb479b8a1e9fc1255166ba": {
          "model_module": "@jupyter-widgets/base",
          "model_name": "LayoutModel",
          "state": {
            "_view_name": "LayoutView",
            "grid_template_rows": null,
            "right": null,
            "justify_content": null,
            "_view_module": "@jupyter-widgets/base",
            "overflow": null,
            "_model_module_version": "1.2.0",
            "_view_count": null,
            "flex_flow": null,
            "width": null,
            "min_width": null,
            "border": null,
            "align_items": null,
            "bottom": null,
            "_model_module": "@jupyter-widgets/base",
            "top": null,
            "grid_column": null,
            "overflow_y": null,
            "overflow_x": null,
            "grid_auto_flow": null,
            "grid_area": null,
            "grid_template_columns": null,
            "flex": null,
            "_model_name": "LayoutModel",
            "justify_items": null,
            "grid_row": null,
            "max_height": null,
            "align_content": null,
            "visibility": null,
            "align_self": null,
            "height": null,
            "min_height": null,
            "padding": null,
            "grid_auto_rows": null,
            "grid_gap": null,
            "max_width": null,
            "order": null,
            "_view_module_version": "1.2.0",
            "grid_template_areas": null,
            "object_position": null,
            "object_fit": null,
            "grid_auto_columns": null,
            "margin": null,
            "display": null,
            "left": null
          }
        },
        "0efe62969adf42399ccdd567fcb5119d": {
          "model_module": "@jupyter-widgets/controls",
          "model_name": "HBoxModel",
          "state": {
            "_view_name": "HBoxView",
            "_dom_classes": [],
            "_model_name": "HBoxModel",
            "_view_module": "@jupyter-widgets/controls",
            "_model_module_version": "1.5.0",
            "_view_count": null,
            "_view_module_version": "1.5.0",
            "box_style": "",
            "layout": "IPY_MODEL_75d2dea391b74a60995b3e1fe6dc89fe",
            "_model_module": "@jupyter-widgets/controls",
            "children": [
              "IPY_MODEL_d71abd2257b645bf907b67149625107d",
              "IPY_MODEL_e78f0f4143034dc7b49152adac0d3855"
            ]
          }
        },
        "75d2dea391b74a60995b3e1fe6dc89fe": {
          "model_module": "@jupyter-widgets/base",
          "model_name": "LayoutModel",
          "state": {
            "_view_name": "LayoutView",
            "grid_template_rows": null,
            "right": null,
            "justify_content": null,
            "_view_module": "@jupyter-widgets/base",
            "overflow": null,
            "_model_module_version": "1.2.0",
            "_view_count": null,
            "flex_flow": null,
            "width": null,
            "min_width": null,
            "border": null,
            "align_items": null,
            "bottom": null,
            "_model_module": "@jupyter-widgets/base",
            "top": null,
            "grid_column": null,
            "overflow_y": null,
            "overflow_x": null,
            "grid_auto_flow": null,
            "grid_area": null,
            "grid_template_columns": null,
            "flex": null,
            "_model_name": "LayoutModel",
            "justify_items": null,
            "grid_row": null,
            "max_height": null,
            "align_content": null,
            "visibility": null,
            "align_self": null,
            "height": null,
            "min_height": null,
            "padding": null,
            "grid_auto_rows": null,
            "grid_gap": null,
            "max_width": null,
            "order": null,
            "_view_module_version": "1.2.0",
            "grid_template_areas": null,
            "object_position": null,
            "object_fit": null,
            "grid_auto_columns": null,
            "margin": null,
            "display": null,
            "left": null
          }
        },
        "d71abd2257b645bf907b67149625107d": {
          "model_module": "@jupyter-widgets/controls",
          "model_name": "FloatProgressModel",
          "state": {
            "_view_name": "ProgressView",
            "style": "IPY_MODEL_eeca36cce9f241478efdc0f0e768605b",
            "_dom_classes": [],
            "description": "Train Loss: 0.173, Valid Loss: 0.176:   0%",
            "_model_name": "FloatProgressModel",
            "bar_style": "",
            "max": 277,
            "_view_module": "@jupyter-widgets/controls",
            "_model_module_version": "1.5.0",
            "value": 0,
            "_view_count": null,
            "_view_module_version": "1.5.0",
            "orientation": "horizontal",
            "min": 0,
            "description_tooltip": null,
            "_model_module": "@jupyter-widgets/controls",
            "layout": "IPY_MODEL_0f132f6e838646a083efc708cbc73c6e"
          }
        },
        "e78f0f4143034dc7b49152adac0d3855": {
          "model_module": "@jupyter-widgets/controls",
          "model_name": "HTMLModel",
          "state": {
            "_view_name": "HTMLView",
            "style": "IPY_MODEL_860aeaa937cd4b9ba2a6f6ed4ce95809",
            "_dom_classes": [],
            "description": "",
            "_model_name": "HTMLModel",
            "placeholder": "​",
            "_view_module": "@jupyter-widgets/controls",
            "_model_module_version": "1.5.0",
            "value": " 0/277 [00:00&lt;04:17,  1.08it/s]",
            "_view_count": null,
            "_view_module_version": "1.5.0",
            "description_tooltip": null,
            "_model_module": "@jupyter-widgets/controls",
            "layout": "IPY_MODEL_591a2477a5354609a1e6ead018793f32"
          }
        },
        "eeca36cce9f241478efdc0f0e768605b": {
          "model_module": "@jupyter-widgets/controls",
          "model_name": "ProgressStyleModel",
          "state": {
            "_view_name": "StyleView",
            "_model_name": "ProgressStyleModel",
            "description_width": "initial",
            "_view_module": "@jupyter-widgets/base",
            "_model_module_version": "1.5.0",
            "_view_count": null,
            "_view_module_version": "1.2.0",
            "bar_color": null,
            "_model_module": "@jupyter-widgets/controls"
          }
        },
        "0f132f6e838646a083efc708cbc73c6e": {
          "model_module": "@jupyter-widgets/base",
          "model_name": "LayoutModel",
          "state": {
            "_view_name": "LayoutView",
            "grid_template_rows": null,
            "right": null,
            "justify_content": null,
            "_view_module": "@jupyter-widgets/base",
            "overflow": null,
            "_model_module_version": "1.2.0",
            "_view_count": null,
            "flex_flow": null,
            "width": null,
            "min_width": null,
            "border": null,
            "align_items": null,
            "bottom": null,
            "_model_module": "@jupyter-widgets/base",
            "top": null,
            "grid_column": null,
            "overflow_y": null,
            "overflow_x": null,
            "grid_auto_flow": null,
            "grid_area": null,
            "grid_template_columns": null,
            "flex": null,
            "_model_name": "LayoutModel",
            "justify_items": null,
            "grid_row": null,
            "max_height": null,
            "align_content": null,
            "visibility": null,
            "align_self": null,
            "height": null,
            "min_height": null,
            "padding": null,
            "grid_auto_rows": null,
            "grid_gap": null,
            "max_width": null,
            "order": null,
            "_view_module_version": "1.2.0",
            "grid_template_areas": null,
            "object_position": null,
            "object_fit": null,
            "grid_auto_columns": null,
            "margin": null,
            "display": null,
            "left": null
          }
        },
        "860aeaa937cd4b9ba2a6f6ed4ce95809": {
          "model_module": "@jupyter-widgets/controls",
          "model_name": "DescriptionStyleModel",
          "state": {
            "_view_name": "StyleView",
            "_model_name": "DescriptionStyleModel",
            "description_width": "",
            "_view_module": "@jupyter-widgets/base",
            "_model_module_version": "1.5.0",
            "_view_count": null,
            "_view_module_version": "1.2.0",
            "_model_module": "@jupyter-widgets/controls"
          }
        },
        "591a2477a5354609a1e6ead018793f32": {
          "model_module": "@jupyter-widgets/base",
          "model_name": "LayoutModel",
          "state": {
            "_view_name": "LayoutView",
            "grid_template_rows": null,
            "right": null,
            "justify_content": null,
            "_view_module": "@jupyter-widgets/base",
            "overflow": null,
            "_model_module_version": "1.2.0",
            "_view_count": null,
            "flex_flow": null,
            "width": null,
            "min_width": null,
            "border": null,
            "align_items": null,
            "bottom": null,
            "_model_module": "@jupyter-widgets/base",
            "top": null,
            "grid_column": null,
            "overflow_y": null,
            "overflow_x": null,
            "grid_auto_flow": null,
            "grid_area": null,
            "grid_template_columns": null,
            "flex": null,
            "_model_name": "LayoutModel",
            "justify_items": null,
            "grid_row": null,
            "max_height": null,
            "align_content": null,
            "visibility": null,
            "align_self": null,
            "height": null,
            "min_height": null,
            "padding": null,
            "grid_auto_rows": null,
            "grid_gap": null,
            "max_width": null,
            "order": null,
            "_view_module_version": "1.2.0",
            "grid_template_areas": null,
            "object_position": null,
            "object_fit": null,
            "grid_auto_columns": null,
            "margin": null,
            "display": null,
            "left": null
          }
        },
        "0be8e013570143b2a74a06dc47d88be2": {
          "model_module": "@jupyter-widgets/controls",
          "model_name": "HBoxModel",
          "state": {
            "_view_name": "HBoxView",
            "_dom_classes": [],
            "_model_name": "HBoxModel",
            "_view_module": "@jupyter-widgets/controls",
            "_model_module_version": "1.5.0",
            "_view_count": null,
            "_view_module_version": "1.5.0",
            "box_style": "",
            "layout": "IPY_MODEL_706c858d17944bbc8f630a79f1a4eb58",
            "_model_module": "@jupyter-widgets/controls",
            "children": [
              "IPY_MODEL_c5a73f8993ad406197f583514193ab5d",
              "IPY_MODEL_e3e63098f3ef466c824384075b493488"
            ]
          }
        },
        "706c858d17944bbc8f630a79f1a4eb58": {
          "model_module": "@jupyter-widgets/base",
          "model_name": "LayoutModel",
          "state": {
            "_view_name": "LayoutView",
            "grid_template_rows": null,
            "right": null,
            "justify_content": null,
            "_view_module": "@jupyter-widgets/base",
            "overflow": null,
            "_model_module_version": "1.2.0",
            "_view_count": null,
            "flex_flow": null,
            "width": null,
            "min_width": null,
            "border": null,
            "align_items": null,
            "bottom": null,
            "_model_module": "@jupyter-widgets/base",
            "top": null,
            "grid_column": null,
            "overflow_y": null,
            "overflow_x": null,
            "grid_auto_flow": null,
            "grid_area": null,
            "grid_template_columns": null,
            "flex": null,
            "_model_name": "LayoutModel",
            "justify_items": null,
            "grid_row": null,
            "max_height": null,
            "align_content": null,
            "visibility": null,
            "align_self": null,
            "height": null,
            "min_height": null,
            "padding": null,
            "grid_auto_rows": null,
            "grid_gap": null,
            "max_width": null,
            "order": null,
            "_view_module_version": "1.2.0",
            "grid_template_areas": null,
            "object_position": null,
            "object_fit": null,
            "grid_auto_columns": null,
            "margin": null,
            "display": null,
            "left": null
          }
        },
        "c5a73f8993ad406197f583514193ab5d": {
          "model_module": "@jupyter-widgets/controls",
          "model_name": "FloatProgressModel",
          "state": {
            "_view_name": "ProgressView",
            "style": "IPY_MODEL_22acc8654ca84d05b07ba433099b34f3",
            "_dom_classes": [],
            "description": "Epoch: 100%",
            "_model_name": "FloatProgressModel",
            "bar_style": "success",
            "max": 1,
            "_view_module": "@jupyter-widgets/controls",
            "_model_module_version": "1.5.0",
            "value": 1,
            "_view_count": null,
            "_view_module_version": "1.5.0",
            "orientation": "horizontal",
            "min": 0,
            "description_tooltip": null,
            "_model_module": "@jupyter-widgets/controls",
            "layout": "IPY_MODEL_e07220d012db4506bb93260a09908966"
          }
        },
        "e3e63098f3ef466c824384075b493488": {
          "model_module": "@jupyter-widgets/controls",
          "model_name": "HTMLModel",
          "state": {
            "_view_name": "HTMLView",
            "style": "IPY_MODEL_6660bb4d3bc14055b5dc6e98ebad221e",
            "_dom_classes": [],
            "description": "",
            "_model_name": "HTMLModel",
            "placeholder": "​",
            "_view_module": "@jupyter-widgets/controls",
            "_model_module_version": "1.5.0",
            "value": " 1/1 [06:20&lt;00:00, 381.00s/it]",
            "_view_count": null,
            "_view_module_version": "1.5.0",
            "description_tooltip": null,
            "_model_module": "@jupyter-widgets/controls",
            "layout": "IPY_MODEL_bf5ae6b24f0b4a19a8e379bd17e89f0e"
          }
        },
        "22acc8654ca84d05b07ba433099b34f3": {
          "model_module": "@jupyter-widgets/controls",
          "model_name": "ProgressStyleModel",
          "state": {
            "_view_name": "StyleView",
            "_model_name": "ProgressStyleModel",
            "description_width": "initial",
            "_view_module": "@jupyter-widgets/base",
            "_model_module_version": "1.5.0",
            "_view_count": null,
            "_view_module_version": "1.2.0",
            "bar_color": null,
            "_model_module": "@jupyter-widgets/controls"
          }
        },
        "e07220d012db4506bb93260a09908966": {
          "model_module": "@jupyter-widgets/base",
          "model_name": "LayoutModel",
          "state": {
            "_view_name": "LayoutView",
            "grid_template_rows": null,
            "right": null,
            "justify_content": null,
            "_view_module": "@jupyter-widgets/base",
            "overflow": null,
            "_model_module_version": "1.2.0",
            "_view_count": null,
            "flex_flow": null,
            "width": null,
            "min_width": null,
            "border": null,
            "align_items": null,
            "bottom": null,
            "_model_module": "@jupyter-widgets/base",
            "top": null,
            "grid_column": null,
            "overflow_y": null,
            "overflow_x": null,
            "grid_auto_flow": null,
            "grid_area": null,
            "grid_template_columns": null,
            "flex": null,
            "_model_name": "LayoutModel",
            "justify_items": null,
            "grid_row": null,
            "max_height": null,
            "align_content": null,
            "visibility": null,
            "align_self": null,
            "height": null,
            "min_height": null,
            "padding": null,
            "grid_auto_rows": null,
            "grid_gap": null,
            "max_width": null,
            "order": null,
            "_view_module_version": "1.2.0",
            "grid_template_areas": null,
            "object_position": null,
            "object_fit": null,
            "grid_auto_columns": null,
            "margin": null,
            "display": null,
            "left": null
          }
        },
        "6660bb4d3bc14055b5dc6e98ebad221e": {
          "model_module": "@jupyter-widgets/controls",
          "model_name": "DescriptionStyleModel",
          "state": {
            "_view_name": "StyleView",
            "_model_name": "DescriptionStyleModel",
            "description_width": "",
            "_view_module": "@jupyter-widgets/base",
            "_model_module_version": "1.5.0",
            "_view_count": null,
            "_view_module_version": "1.2.0",
            "_model_module": "@jupyter-widgets/controls"
          }
        },
        "bf5ae6b24f0b4a19a8e379bd17e89f0e": {
          "model_module": "@jupyter-widgets/base",
          "model_name": "LayoutModel",
          "state": {
            "_view_name": "LayoutView",
            "grid_template_rows": null,
            "right": null,
            "justify_content": null,
            "_view_module": "@jupyter-widgets/base",
            "overflow": null,
            "_model_module_version": "1.2.0",
            "_view_count": null,
            "flex_flow": null,
            "width": null,
            "min_width": null,
            "border": null,
            "align_items": null,
            "bottom": null,
            "_model_module": "@jupyter-widgets/base",
            "top": null,
            "grid_column": null,
            "overflow_y": null,
            "overflow_x": null,
            "grid_auto_flow": null,
            "grid_area": null,
            "grid_template_columns": null,
            "flex": null,
            "_model_name": "LayoutModel",
            "justify_items": null,
            "grid_row": null,
            "max_height": null,
            "align_content": null,
            "visibility": null,
            "align_self": null,
            "height": null,
            "min_height": null,
            "padding": null,
            "grid_auto_rows": null,
            "grid_gap": null,
            "max_width": null,
            "order": null,
            "_view_module_version": "1.2.0",
            "grid_template_areas": null,
            "object_position": null,
            "object_fit": null,
            "grid_auto_columns": null,
            "margin": null,
            "display": null,
            "left": null
          }
        },
        "3e2b1754d7db45058e831aae0ce8d960": {
          "model_module": "@jupyter-widgets/controls",
          "model_name": "HBoxModel",
          "state": {
            "_view_name": "HBoxView",
            "_dom_classes": [],
            "_model_name": "HBoxModel",
            "_view_module": "@jupyter-widgets/controls",
            "_model_module_version": "1.5.0",
            "_view_count": null,
            "_view_module_version": "1.5.0",
            "box_style": "",
            "layout": "IPY_MODEL_ef93b4097c3b4515994be2b74757d2a2",
            "_model_module": "@jupyter-widgets/controls",
            "children": [
              "IPY_MODEL_3faaf2dbbe874e0b84575553c477d819",
              "IPY_MODEL_76ee13949e0a4c21a67830fbb134582e"
            ]
          }
        },
        "ef93b4097c3b4515994be2b74757d2a2": {
          "model_module": "@jupyter-widgets/base",
          "model_name": "LayoutModel",
          "state": {
            "_view_name": "LayoutView",
            "grid_template_rows": null,
            "right": null,
            "justify_content": null,
            "_view_module": "@jupyter-widgets/base",
            "overflow": null,
            "_model_module_version": "1.2.0",
            "_view_count": null,
            "flex_flow": null,
            "width": null,
            "min_width": null,
            "border": null,
            "align_items": null,
            "bottom": null,
            "_model_module": "@jupyter-widgets/base",
            "top": null,
            "grid_column": null,
            "overflow_y": null,
            "overflow_x": null,
            "grid_auto_flow": null,
            "grid_area": null,
            "grid_template_columns": null,
            "flex": null,
            "_model_name": "LayoutModel",
            "justify_items": null,
            "grid_row": null,
            "max_height": null,
            "align_content": null,
            "visibility": null,
            "align_self": null,
            "height": null,
            "min_height": null,
            "padding": null,
            "grid_auto_rows": null,
            "grid_gap": null,
            "max_width": null,
            "order": null,
            "_view_module_version": "1.2.0",
            "grid_template_areas": null,
            "object_position": null,
            "object_fit": null,
            "grid_auto_columns": null,
            "margin": null,
            "display": null,
            "left": null
          }
        },
        "3faaf2dbbe874e0b84575553c477d819": {
          "model_module": "@jupyter-widgets/controls",
          "model_name": "FloatProgressModel",
          "state": {
            "_view_name": "ProgressView",
            "style": "IPY_MODEL_1dceafee1e63446ba59c75aeadf1a15c",
            "_dom_classes": [],
            "description": "100%",
            "_model_name": "FloatProgressModel",
            "bar_style": "success",
            "max": 91,
            "_view_module": "@jupyter-widgets/controls",
            "_model_module_version": "1.5.0",
            "value": 91,
            "_view_count": null,
            "_view_module_version": "1.5.0",
            "orientation": "horizontal",
            "min": 0,
            "description_tooltip": null,
            "_model_module": "@jupyter-widgets/controls",
            "layout": "IPY_MODEL_f886527f976c408db339ec0851333e1b"
          }
        },
        "76ee13949e0a4c21a67830fbb134582e": {
          "model_module": "@jupyter-widgets/controls",
          "model_name": "HTMLModel",
          "state": {
            "_view_name": "HTMLView",
            "style": "IPY_MODEL_9c0c4c3cf71940119f74ed398d7cc58b",
            "_dom_classes": [],
            "description": "",
            "_model_name": "HTMLModel",
            "placeholder": "​",
            "_view_module": "@jupyter-widgets/controls",
            "_model_module_version": "1.5.0",
            "value": " 91/91 [00:57&lt;00:00,  1.58it/s]",
            "_view_count": null,
            "_view_module_version": "1.5.0",
            "description_tooltip": null,
            "_model_module": "@jupyter-widgets/controls",
            "layout": "IPY_MODEL_b285012e59d34376bcb3ccf414242503"
          }
        },
        "1dceafee1e63446ba59c75aeadf1a15c": {
          "model_module": "@jupyter-widgets/controls",
          "model_name": "ProgressStyleModel",
          "state": {
            "_view_name": "StyleView",
            "_model_name": "ProgressStyleModel",
            "description_width": "initial",
            "_view_module": "@jupyter-widgets/base",
            "_model_module_version": "1.5.0",
            "_view_count": null,
            "_view_module_version": "1.2.0",
            "bar_color": null,
            "_model_module": "@jupyter-widgets/controls"
          }
        },
        "f886527f976c408db339ec0851333e1b": {
          "model_module": "@jupyter-widgets/base",
          "model_name": "LayoutModel",
          "state": {
            "_view_name": "LayoutView",
            "grid_template_rows": null,
            "right": null,
            "justify_content": null,
            "_view_module": "@jupyter-widgets/base",
            "overflow": null,
            "_model_module_version": "1.2.0",
            "_view_count": null,
            "flex_flow": null,
            "width": null,
            "min_width": null,
            "border": null,
            "align_items": null,
            "bottom": null,
            "_model_module": "@jupyter-widgets/base",
            "top": null,
            "grid_column": null,
            "overflow_y": null,
            "overflow_x": null,
            "grid_auto_flow": null,
            "grid_area": null,
            "grid_template_columns": null,
            "flex": null,
            "_model_name": "LayoutModel",
            "justify_items": null,
            "grid_row": null,
            "max_height": null,
            "align_content": null,
            "visibility": null,
            "align_self": null,
            "height": null,
            "min_height": null,
            "padding": null,
            "grid_auto_rows": null,
            "grid_gap": null,
            "max_width": null,
            "order": null,
            "_view_module_version": "1.2.0",
            "grid_template_areas": null,
            "object_position": null,
            "object_fit": null,
            "grid_auto_columns": null,
            "margin": null,
            "display": null,
            "left": null
          }
        },
        "9c0c4c3cf71940119f74ed398d7cc58b": {
          "model_module": "@jupyter-widgets/controls",
          "model_name": "DescriptionStyleModel",
          "state": {
            "_view_name": "StyleView",
            "_model_name": "DescriptionStyleModel",
            "description_width": "",
            "_view_module": "@jupyter-widgets/base",
            "_model_module_version": "1.5.0",
            "_view_count": null,
            "_view_module_version": "1.2.0",
            "_model_module": "@jupyter-widgets/controls"
          }
        },
        "b285012e59d34376bcb3ccf414242503": {
          "model_module": "@jupyter-widgets/base",
          "model_name": "LayoutModel",
          "state": {
            "_view_name": "LayoutView",
            "grid_template_rows": null,
            "right": null,
            "justify_content": null,
            "_view_module": "@jupyter-widgets/base",
            "overflow": null,
            "_model_module_version": "1.2.0",
            "_view_count": null,
            "flex_flow": null,
            "width": null,
            "min_width": null,
            "border": null,
            "align_items": null,
            "bottom": null,
            "_model_module": "@jupyter-widgets/base",
            "top": null,
            "grid_column": null,
            "overflow_y": null,
            "overflow_x": null,
            "grid_auto_flow": null,
            "grid_area": null,
            "grid_template_columns": null,
            "flex": null,
            "_model_name": "LayoutModel",
            "justify_items": null,
            "grid_row": null,
            "max_height": null,
            "align_content": null,
            "visibility": null,
            "align_self": null,
            "height": null,
            "min_height": null,
            "padding": null,
            "grid_auto_rows": null,
            "grid_gap": null,
            "max_width": null,
            "order": null,
            "_view_module_version": "1.2.0",
            "grid_template_areas": null,
            "object_position": null,
            "object_fit": null,
            "grid_auto_columns": null,
            "margin": null,
            "display": null,
            "left": null
          }
        }
      }
    }
  },
  "cells": [
    {
      "cell_type": "markdown",
      "metadata": {
        "id": "Kmb8UhIzOnfK"
      },
      "source": [
        "# Text Summarization. Homework\n",
        "\n",
        "Всем привет! Это домашка по суммаризации текста.\n",
        "\n",
        "На семинаре мы рассмотрели базовые модели для суммаризации текста. Попробуйте теперь улучшить два метода: TextRank и Extractive RNN. Задание достаточно большое и требует хорошую фантазию, тут можно эксперементировать во всю.\n",
        "\n",
        "Для сдачи заданий надо получить определенное качество по test-у:\n",
        "\n",
        "- 1 задание: 0.35 BLEU\n",
        "- 2 задание: 0.35 BLEU\n",
        "\n",
        "Если ваш подход пробивает это качество – задание считается пройденным. Плюсом будет описание того, почему вы решили использовать то или иное решение. \n",
        "\n",
        "Датасет: gazeta.ru\n",
        "\n",
        "**P.S.** Возможно, в датасете находятся пустые данные. Проверьте эту гипотезу, и если надо, сделайте предобратоку датасета.\n",
        "\n",
        "\n",
        "`Ноутбук создан на основе семинара Гусева Ильи на кафедре компьютерной лингвистики МФТИ.`\n",
        "\n",
        "Загрузим датасет и необходимые библиотеки"
      ]
    },
    {
      "cell_type": "code",
      "metadata": {
        "id": "OqkLTkFRfXvA"
      },
      "source": [
        "!wget -q https://www.dropbox.com/s/43l702z5a5i2w8j/gazeta_train.txt\n",
        "!wget -q https://www.dropbox.com/s/k2egt3sug0hb185/gazeta_val.txt\n",
        "!wget -q https://www.dropbox.com/s/3gki5n5djs9w0v6/gazeta_test.txt"
      ],
      "execution_count": 1,
      "outputs": []
    },
    {
      "cell_type": "code",
      "metadata": {
        "colab": {
          "base_uri": "https://localhost:8080/"
        },
        "id": "SXS1sdYZCluU",
        "outputId": "f41d8f65-f1b8-4ec9-ba17-5d20b2da8cdb"
      },
      "source": [
        "!pip install -Uq razdel allennlp torch fasttext OpenNMT-py networkx pymorphy2 nltk rouge==0.3.1 summa\n",
        "!pip install -Uq transformers youtokentome"
      ],
      "execution_count": 2,
      "outputs": [
        {
          "output_type": "stream",
          "text": [
            "\u001b[K     |████████████████████████████████| 512kB 6.0MB/s \n",
            "\u001b[K     |████████████████████████████████| 71kB 7.4MB/s \n",
            "\u001b[K     |████████████████████████████████| 204kB 11.7MB/s \n",
            "\u001b[K     |████████████████████████████████| 61kB 9.3MB/s \n",
            "\u001b[K     |████████████████████████████████| 1.4MB 12.8MB/s \n",
            "\u001b[K     |████████████████████████████████| 61kB 7.9MB/s \n",
            "\u001b[K     |████████████████████████████████| 266kB 21.0MB/s \n",
            "\u001b[K     |████████████████████████████████| 133kB 21.0MB/s \n",
            "\u001b[K     |████████████████████████████████| 1.3MB 19.4MB/s \n",
            "\u001b[K     |████████████████████████████████| 317kB 35.0MB/s \n",
            "\u001b[K     |████████████████████████████████| 61kB 8.5MB/s \n",
            "\u001b[K     |████████████████████████████████| 2.5MB 29.4MB/s \n",
            "\u001b[K     |████████████████████████████████| 51kB 8.0MB/s \n",
            "\u001b[K     |████████████████████████████████| 61kB 9.1MB/s \n",
            "\u001b[K     |████████████████████████████████| 8.2MB 24.4MB/s \n",
            "\u001b[K     |████████████████████████████████| 71kB 10.3MB/s \n",
            "\u001b[K     |████████████████████████████████| 7.0MB 48.3MB/s \n",
            "\u001b[K     |████████████████████████████████| 2.9MB 62.9MB/s \n",
            "\u001b[K     |████████████████████████████████| 890kB 52.6MB/s \n",
            "\u001b[K     |████████████████████████████████| 1.1MB 41.6MB/s \n",
            "\u001b[?25h  Building wheel for fasttext (setup.py) ... \u001b[?25l\u001b[?25hdone\n",
            "  Building wheel for nltk (setup.py) ... \u001b[?25l\u001b[?25hdone\n",
            "  Building wheel for summa (setup.py) ... \u001b[?25l\u001b[?25hdone\n",
            "  Building wheel for jsonnet (setup.py) ... \u001b[?25l\u001b[?25hdone\n",
            "  Building wheel for overrides (setup.py) ... \u001b[?25l\u001b[?25hdone\n",
            "  Building wheel for configargparse (setup.py) ... \u001b[?25l\u001b[?25hdone\n",
            "  Building wheel for sacremoses (setup.py) ... \u001b[?25l\u001b[?25hdone\n",
            "\u001b[31mERROR: botocore 1.19.29 has requirement urllib3<1.27,>=1.25.4; python_version != \"3.4\", but you'll have urllib3 1.24.3 which is incompatible.\u001b[0m\n",
            "\u001b[K     |████████████████████████████████| 1.4MB 4.3MB/s \n",
            "\u001b[K     |████████████████████████████████| 1.7MB 31.9MB/s \n",
            "\u001b[K     |████████████████████████████████| 2.9MB 45.4MB/s \n",
            "\u001b[31mERROR: allennlp 1.2.2 has requirement transformers<3.6,>=3.4, but you'll have transformers 4.0.0 which is incompatible.\u001b[0m\n",
            "\u001b[?25h"
          ],
          "name": "stdout"
        }
      ]
    },
    {
      "cell_type": "code",
      "metadata": {
        "colab": {
          "base_uri": "https://localhost:8080/"
        },
        "id": "OGAmYq89dxIP",
        "outputId": "2d4818a4-3ffb-49ff-ee1a-5536c14bee69"
      },
      "source": [
        "!head -n 1 gazeta_train.txt\n",
        "!cat gazeta_train.txt | wc -l\n",
        "!cat gazeta_val.txt | wc -l\n",
        "!cat gazeta_test.txt | wc -l"
      ],
      "execution_count": null,
      "outputs": [
        {
          "output_type": "stream",
          "text": [
            "{\"url\": \"https://www.gazeta.ru/financial/2011/11/30/3852658.shtml\", \"text\": \"«По итогам 2011 года чистый отток может составить примерно $80 млрд, в следующем году — около $20 млрд. При этом мы ожидаем, что со второго полугодия 2012 года начнется приток капитала», — заявил «Интерфаксу» замминистра экономического развития Андрей Клепач. Официальные прогнозы по выводу капитала из России становятся все пессимистичными: еще летом власти полагали, что из страны уйдет не более $35 млрд, в сентябре Минэкономразвития назвал цифру $50 млрд, в начале ноября Центробанк пересмотрел оценку до $70 млрд. Очередное изменение прогноза было ожидаемо: по расчетам Центробанка , за январь — октябрь чистый отток капитала достиг $64 млрд, причем в последние месяцы он ускорился: в сентябре он составил $14 млрд, в октябре — $13 млрд против среднего ежемесячного оттока в $6—8 млрд в первом полугодии. «После октябрьских данных Минэкономразвития вынуждено было изменить оценку, настаивать на $70 млрд означало ожидать серьезного замедления оттока капитала на непонятно каких причинах», — говорит главный экономист BNP Paribas Юлия Цепляева. «В последние два месяца отток капитала ускорится, на декабрь приходится значительная часть выплат по внешним долгам, что приводит к усилению оттока, особенно если они не рефинансируются новыми кредитами», — соглашается главный экономист ФК «Открытие» Владимир Тихомиров. Прогнозируемый Минэкономразвития отток капитала — один из самых высоких за последние 20 лет. Больше ушло лишь в 2008 году на фоне разрастания финансового кризиса и российско-грузинской войны — $133,7 млрд. В кризисный 2009 год из России утекло $56,1 млрд. Главный фактор ускорения оттока капитала в 2011 году — нестабильность на внешних финансовых рынках и рост опасений относительно второй волны рецессии. «Это реакция на неуверенность, которую генерирует Европа с долговыми проблемами. В случае новой волны глобальной турбулентности Россия — одна из самых уязвимых стран», — говорит Цепляева. Еще одна причина — ослабление рубля. «Привлекательность вложений снижается на фоне того, что рубль перестал укрепляться, а ставки по депозитам достаточно низкие. В результате экспортеры не полностью возвращают экспортную выручку», — говорит Тихомиров. Внутри страны эксперты не видят особых причин для бегства капитала. «Ситуация выглядит достаточно позитивно, очень хорошие макроэкономические результаты за год, особенно на фоне других стран. С политической точки зрения все достаточно понятно и предсказуемо, итог выборов очевиден», — говорит экономист ИК «Тройка Диалог» Антон Струченевский. Тем не менее политический фактор играет роль. «Бизнесу важно не только, кто будет президентом, он ждет ясности с перестановками в правительстве. В наших условиях административный ресурс важнее всего для успешности бизнеса», — говорит Цепляева, добавляя, что отток капитала продолжится до завершения президентских выборов.\", \"title\": \"Прогноз не успевает за оттоком\", \"summary\": \"В 2011 году из России уйдет $80 млрд, считают в Минэкономразвития. Менее месяца назад Центробанк давал оценку $70 млрд, повысив первоначальный прогноз вдвое. Отток капитала из страны усиливается из-за кризиса в Европе, а в декабре российским компаниям выплачивать внешние долги. На движение капитала повлияли и выборы: несмотря на их предсказуемость, бизнес хочет ясности с перестановками в правительстве.\", \"date\": \"2011-11-30 18:33:39\"}\n",
            "52400\n",
            "5265\n",
            "5770\n"
          ],
          "name": "stdout"
        }
      ]
    },
    {
      "cell_type": "code",
      "metadata": {
        "colab": {
          "base_uri": "https://localhost:8080/"
        },
        "id": "RVoXLTvAein4",
        "outputId": "839bee47-b438-4d18-d691-e4aae4d733af"
      },
      "source": [
        "!head -n 10 gazeta_train.txt"
      ],
      "execution_count": null,
      "outputs": [
        {
          "output_type": "stream",
          "text": [
            "{\"url\": \"https://www.gazeta.ru/financial/2011/11/30/3852658.shtml\", \"text\": \"«По итогам 2011 года чистый отток может составить примерно $80 млрд, в следующем году — около $20 млрд. При этом мы ожидаем, что со второго полугодия 2012 года начнется приток капитала», — заявил «Интерфаксу» замминистра экономического развития Андрей Клепач. Официальные прогнозы по выводу капитала из России становятся все пессимистичными: еще летом власти полагали, что из страны уйдет не более $35 млрд, в сентябре Минэкономразвития назвал цифру $50 млрд, в начале ноября Центробанк пересмотрел оценку до $70 млрд. Очередное изменение прогноза было ожидаемо: по расчетам Центробанка , за январь — октябрь чистый отток капитала достиг $64 млрд, причем в последние месяцы он ускорился: в сентябре он составил $14 млрд, в октябре — $13 млрд против среднего ежемесячного оттока в $6—8 млрд в первом полугодии. «После октябрьских данных Минэкономразвития вынуждено было изменить оценку, настаивать на $70 млрд означало ожидать серьезного замедления оттока капитала на непонятно каких причинах», — говорит главный экономист BNP Paribas Юлия Цепляева. «В последние два месяца отток капитала ускорится, на декабрь приходится значительная часть выплат по внешним долгам, что приводит к усилению оттока, особенно если они не рефинансируются новыми кредитами», — соглашается главный экономист ФК «Открытие» Владимир Тихомиров. Прогнозируемый Минэкономразвития отток капитала — один из самых высоких за последние 20 лет. Больше ушло лишь в 2008 году на фоне разрастания финансового кризиса и российско-грузинской войны — $133,7 млрд. В кризисный 2009 год из России утекло $56,1 млрд. Главный фактор ускорения оттока капитала в 2011 году — нестабильность на внешних финансовых рынках и рост опасений относительно второй волны рецессии. «Это реакция на неуверенность, которую генерирует Европа с долговыми проблемами. В случае новой волны глобальной турбулентности Россия — одна из самых уязвимых стран», — говорит Цепляева. Еще одна причина — ослабление рубля. «Привлекательность вложений снижается на фоне того, что рубль перестал укрепляться, а ставки по депозитам достаточно низкие. В результате экспортеры не полностью возвращают экспортную выручку», — говорит Тихомиров. Внутри страны эксперты не видят особых причин для бегства капитала. «Ситуация выглядит достаточно позитивно, очень хорошие макроэкономические результаты за год, особенно на фоне других стран. С политической точки зрения все достаточно понятно и предсказуемо, итог выборов очевиден», — говорит экономист ИК «Тройка Диалог» Антон Струченевский. Тем не менее политический фактор играет роль. «Бизнесу важно не только, кто будет президентом, он ждет ясности с перестановками в правительстве. В наших условиях административный ресурс важнее всего для успешности бизнеса», — говорит Цепляева, добавляя, что отток капитала продолжится до завершения президентских выборов.\", \"title\": \"Прогноз не успевает за оттоком\", \"summary\": \"В 2011 году из России уйдет $80 млрд, считают в Минэкономразвития. Менее месяца назад Центробанк давал оценку $70 млрд, повысив первоначальный прогноз вдвое. Отток капитала из страны усиливается из-за кризиса в Европе, а в декабре российским компаниям выплачивать внешние долги. На движение капитала повлияли и выборы: несмотря на их предсказуемость, бизнес хочет ясности с перестановками в правительстве.\", \"date\": \"2011-11-30 18:33:39\"}\n",
            "{\"url\": \"https://www.gazeta.ru/business/2013/01/24/4939629.shtml\", \"text\": \"Российское подразделение интернет-корпорации Google возглавила Юлия Соловьева , экс-директор московского офиса международной консалтинговой компании Alvarez & Marsal. Соловьева приступит к обязанностям генерального директора 31 января, сообщили в пресс-службе Google. В новой должности она будет отвечать за стратегическое развитие компании в России, «на одном из крупнейших европейских интернет-рынков». В пресс-службе Google не смогли оперативно предоставить дополнительные комментарии. О назначении Соловьевой было объявлено спустя полгода после того, как пост генерального директора Google Russia покинул Владимир Долгов , возглавив представительство интернет-аукциона eBay в Москве. Поиск нового менеджера Google вел американский офис корпорации. Ранее источники «Газеты.Ru» говорили о том, что в качестве руководителя российского подразделения рассматривался внутренний иностранный кандидат, а также представители Apple , Hewlett-Packard, Microsoft , «Сколково». Соловьева окончила факультет иностранных языков Московского государственного лингвистического университета, имеет американские дипломы Монтерейского института международных исследований (Monterey Institute of International Studies) и магистра делового администрирования Гарвардской бизнес-школы. До прихода в Alvarez & Marsal Соловьева в течение пяти лет работала в российском медиахолдинге «Профмедиа». Там она занимала посты исполнительного вице-президента, а затем президента и отвечала за создание и внедрение портфельной стратегии холдинга, управление активами, корпоративное управление и финансовые результаты компании. В 2003–2006 годах Соловьева была директором по корпоративному развитию в «Мобильных телесистемах» (МТС), а до этого работала в голландском офисе консалтинговой компании Booz Allen Hamilton, российском операторе спутникового телевидения НТВ+, американской косметической компании Mary Kay и поставщике интернет-услуг в России Golden Telecom. По словам источника на интернет-рынке, при Долгове стратегия Google стала смещаться от технологической к ориентированный на массового потребителя. Профессиональные качества Соловьевой отвечают новой политике компании, считает он: «С этой точки зрения сил и знаний ей хватит. А опыт работы в международных компаниях позволит найти общий язык с западными акционерами». По словам источника, одной из задач Соловьевой в новой должности должно стать решение проблемы позиционирования компании в госсекторе, так как «поиск общего языка с регулятором должен идти от руководителя компании». Но по словам аналитика «Финам» Леонида Делицына, более активных действий от Google можно было бы ожидать, если бы в качестве руководителя был нанят технологический специалист или маркетолог. «Google же выбрал менеджера достаточной категории, для того чтобы поддерживать текущую стратегию компании на этом рынке, которая, на мой взгляд, остается вялой, — говорит он. — А такой политики может придерживаться любой менеджер с опытом работы в крупной компании». LiveInternet оценивает долю Google на российском рынке поиска в 26,3%, у «Яндекса» — 61%. В России Google продолжит наращивать свою долю, но в основном за счет общемировых сервисов и Android-устройств, считает Делицин.\", \"title\": \"Google закончил поиск\", \"summary\": \"Юлия Соловьева, экс-директор холдинга «Профмедиа», возглавила российский офис Google. Поиск американская интернет-корпорация вела полгода. Медиаменеджер с опытом работы в международных компаниях найдет общий язык с акционерами, но прорыва можно было ждать от технического специалиста или маркетолога, говорят аналитики.\", \"date\": \"2013-01-24 18:20:09\"}\n",
            "{\"url\": \"https://www.gazeta.ru/social/2018/02/06/11639377.shtml\", \"text\": \"Басманный районный суд Москвы вечером 6 февраля арестовал по обвинению в мошенничестве четверых бывших чиновников правительства Дагестана — врио премьер-министра Дагестана Абдусамада Гамидова, его заместителей Шамиль Исаева и Раюдина Юсуфова, а также министра образования Шахабаса Шахова, передает RT. Фигуранты пробудут под стражей до 5 апреля. Защита фигурантов просила поместить подсудимых под домашний арест или отпустить под залог. Представители же следствия настаивали на помещении фигурантов коррупционного дела под стражу, утверждая, что те смогут использовать свое служебное положение, чтобы уничтожить улики или надавить на свидетелей. В конце января нынешнего года стало известно, что в Дагестан для проверки приехала специальная комиссия из Москвы. За время ее работы по уголовным делам были задержаны мэр Махачкалы Муса Мусаев , главный архитектор столицы Дагестана Магомед-Расул Гитинов , обыски прошли также в администрации Табасаранского района республики, сообщает РИА «Новости». По данным следствия, в феврале 2015 года Гитинов, выходя за пределы своих полномочий, составил градостроительный план земельного участка площадью 600 кв. м, на котором должны были построить 12-этажный дом. В зону застройки частично попал земельный участок, принадлежащий жителю Махачкалы. В феврале 2017 года по его иску было принято решение о сносе фундамента дома, чем был причинен ущерб администрации города на 4 млн руб. Однако этим дело не ограничилось — утром в понедельник 5 февраля дома у Абдусамада Гамидова провели обыски сотрудники ФСБ и Следственного комитета России. У главы правительства были изъяты золотой пистолет ТТ, пистолеты Beretta, пистолет ПМ и два автомата Калашникова, сообщила официальный представитель Следственного комитета России Светлана Петренко. Также обыски прошли у двух его заместителей и экс-министра образования. Все чиновники были задержаны. Следователи выделили в деле несколько эпизодов. Один из них связан с приобретением здания для детского сада в селе Халимбекаул. Бывший ресторан «Шуринка» вместе с реконструкцией стоил 12 миллионов рублей, однако Гамидов и Шахов приобрели его за 31,8 миллиона. Другой эпизод касается реконструкции здания для временного содержания иностранцев и лиц без гражданства. Эти работы выполняли наемные рабочие за наличные. Гамидов и Юсуфов провели аукцион для заключения контракта с ООО «Гранд-Строй», и в 2013 — 2014 годах компании было перечислено более 41 миллиона рублей. Кроме того, следователи выявили хищение бюджетных средств, выделенных на инженерную инфраструктуру турбазы «Орлиное гнездо», которой с 2011 года фактически владел Исаев. Эти действия причинили бюджету республики ущерб равный примерно 35 миллионам рублей. Комментируя данную ситуацию, пресс-секретарь президента России Владимира Путина Дмитрий Песков заявил, что российскому лидеру докладывают о действиях правоохранительных органов в связи с задержаниями чиновников в Дагестане, передает ФАН. Ранее – 20 января — мэр Махачкалы Муса Мусаев, подозреваемый в превышении должностных полномочий, был задержан и помещен в следственный изолятор после обысков. «Следствием установлено, что в марте 2016 года Мусаев, заведомо зная, что земельный участок площадью около 17,5 тысяч кв. м., расположенный в Махачкале, является собственностью Республики Дагестан, превышая свои должностные полномочия, незаконно подписал постановление о предоставлении ОАО «АСПК» в собственность земельного участка за плату в размере 1 млн 100 тыс. руб.», — говорилось в сообщении следствия. После этого на основании незаконного постановления в Единый реестр прав была внесена запись о государственной регистрации права собственности на этот участок. Согласно заключению специалиста рыночная стоимость участка составляет более 81 млн руб. «Незаконными действиями Мусаева существенно нарушены охраняемые законом интересы государства и причинен значительный материальный ущерб бюджету Дагестана на сумму около 80 млн руб.», — резюмировалось сообщение правоохранительного ведомства. За два дня до этого задержания Счетная палата сообщила, что во время проверки мэрии Махачкалы в части исполнения городского бюджета 2016 — 2017 годов было выявлено нарушений почти на 3 млрд руб., — деньги были использованы нерационально и противозаконно.\", \"title\": \"«Фигуранты дела могут давить на свидетелей»\", \"summary\": \"Суд арестовал на два месяца четверых экс-чиновников правительства Дагестана, включая бывшего врио премьер-министра Дагестана Абдусамада Гамидова. Все они обвиняются в мошенничестве. Защита фигурантов просила поместить подсудимых под домашний арест или отпустить под залог. Представители следствия настаивали на помещении фигурантов коррупционного дела под стражу, утверждая, что те смогут использовать свое служебное положение, чтобы уничтожить улики или надавить на свидетелей.\", \"date\": \"2018-02-06 21:21:14\"}\n",
            "{\"url\": \"https://www.gazeta.ru/business/2013/06/21/5388733.shtml\", \"text\": \"Как повлияло вступление в ВТО на конкурентноспособность российской промышленности, какие угрозы и преимущества несет членство в организации и как России правильно играть по ее правилам, чтобы выграть, обсудили участники «круглого стола» «Вступление России в ВТО и повышение конкурентоспособности российской промышленности» в рамках петербургского форума. 22 августа 2012 года Россия стала полноправным членом ВТО, переговоры о вступлении в которую длились 18 лет. Отношение участников дискуссии к первым итогам членства в ВТО оказалось неоднозначным. Больше всего возражений по отношению к вступлению в ВТО было у главы и основного акционера алюминиевой компании «Русал» Олега Дерипаски. «ВТО — это бассейн с акулами, мы это почувствуем через три-четыре года», — объявил Дерипаска , предрекающий спад производства внутри России и рост безработицы до 12%. По его словам, уже сейчас усилилась конкуренция со стороны Китая, активно субсидирующего свои производства, в том числе алюминиевое. «Не проще ли было нам сначала подготовиться, а потом вступать в ВТО?» — вопрошал глава «Русала» , указывая на вред резкого снятия контроля и отсутствие таможенных барьеров. Мы недостаточно хорошо подготовились к вступлению в ВТО, придется делать это «в открытом режиме», посетовал Дерипаска. Чтобы спасти отечественную промышленность, Дерипаска предложил кардинальным образом менять таможенную, финансовую, антимонопольную и кредитную политику. Основной владелец другой металлургической компании — «Северсталь» — Алексей Мордашов был настроен менее критично. «Говорят, вступление ВТО оказывает негативное влияние. Но посмотрите на статистику: с сентября 2012 года по март 2013 года рост импорта составил 4–5%, лишь по отдельным категориям товаров 8–9%, то есть говорить о всплеске импорта и ущербе для национального производства не приходится», — сказал бизнесмен. Важно помнить, что вступление в ВТО — это еще и забота о потребителях: в России товары стоят дороже, чем за рубежом, из-за торговых и неторговых барьеров, напомнил он. По мнению Мордашова, проблемы связаны с низкой конкурентоспособностью российских товаров, а не с вступлением в ВТО. А для роста конкурентособности в России оказалось много препятствий — это три «к», как охарактеризовал министр по торговле Евразийской экономической комиссии Андрей Слепнев : климат, кредиты, компентенция. «Сложно играть в футбол на мировом уровне в условиях не расчищенного от снега поля», — посетовал Слепнев. Ставки же по кредитам достигают 38% — именно такую ставку, по его словам, недавно предложил знакомому, желавшему взять кредит на три месяца, Россельхозбанк. И, конечно, нужно иметь компетенцию, чтобы играть «и в нападении, и в обороне» в условиях снижения мирового спроса, резюмировал Слепнев. Футбольную аналогию членству в ВТО предложил модератор дискуссии, управляющий партнер Altera Capital Кирилл Андросов. А впервые заговорил о членстве в организации как об игре в футбол еще в январе этого года глава Сбербанка Герман Греф , сравнившей членство России с игрой «дворовой команды» на Олимпийских играх. Наряду с негативными факторами для конкурентоспособности российских товаров — высокими удельными расходами топлива и транспортными затратами (из-за того, что рынки сбыта удалены от мест производства), а также низкой производительностью труда — участники дискуссии нашли и позитивные. В том числе масштаб страны, наличие большого объема ресурсов, неудовлетворенный внутренний спрос и человеческий капитал. Но при всем этом позитиве Россия отстает от тренда, а тот, кто отстает, теряет свою конкурентоспособность. «Большая часть игроков уже на новом этапе — входят в число участников соглашения о свободной торговле, это грозит ситуацией, что «все уже летят на самолете, а мы только сели на поезд», — посетовал Слепнев. «А от вступления в ВТО больше всего выиграли те, кто вступил раньше, как, например, Бразилия, — отметил глава Минэкономразвития Андрей Белоусов. — Те, кто вступают вначале, получают больше, чем те, кто вступают в конце, с последних традиционно «отжимают» больше». Многие возможности, на которые мы рассчитывали, пока не реализованы, отметил он. Зарубежные участники дискуссии, в свою очередь, посоветовали России активнее играть не только в защите, закрывая свой рынок, но и в нападении — защищать свои экспортные интересы. «ВТО — игра с очень хорошими командами. Есть команды сильнее вашей, но надо оттачивать собственную игру. Участие — это не только перебрасывание мяча на своей части поля, — сказал бывший комиссар ЕС по торговле лорд Питер Мандельсон. — Как сказано в докладе Global Counsel LLP , подход России к членству в ВТО носит скорее оборонительный, а не наступательный характер. Многие видят ВТО как угрозу — это нечто, от чего нужно защищать экономику и промышленность». Россия не занимает должное место в ВТО, необходимо обеспечивать ей квалифицированное представительство, уверен еврокомиссар. При этом вкладывать средства нужно «в собственную команду, а не в чисто имиджевые проекты и мероприятия», резюмировал Мандельсон.\", \"title\": \"«С последних традиционно «отжимают» больше»\", \"summary\": \"Мнения предпринимателей по поводу вступления в ВТО разделились. Одни называют организацию «бассейном с акулами», другие утверждают, что проблема не в ВТО, а в низкой конкурентоспособности отечественных товаров. Не нужно защищать рынок от импорта, а нужно более активно играть «в нападении» на экспортные, советуют иностранные эксперты.\", \"date\": \"2013-06-21 17:43:50\"}\n",
            "{\"url\": \"https://www.gazeta.ru/culture/2014/12/27/a_6361441.shtml\", \"text\": \"К третьему сезону «Голос» на Первом канале стал для российских телезрителей чем-то вроде «Иронии судьбы» — финал шоу превратился в обязательное предновогоднее блюдо. В этом году восприятие программы значительно стабилизировалось, фаворитом среди наставников успешно стал Александр Борисович Градский, чьи подопечные — Дина Гарипова и Сергей Волчков — два года подряд становились победителями программы. Другое дело, что «Голос» существует уже достаточно долго, чтобы отчитаться некоторыми результатами в смысле обновления российского поп-ландшафта. Никаких подвижек в этом плане конкурс, будем честны, не породил. Единственным постоянным лицом с афиш стал участник второго сезона Антон Беляев, но его группа Therr Maitz существовала еще до старта российской версии шоу. Антон успешно использовал «Голос» в качестве инструмента продвижения собственного проекта. То же, вполне вероятно, ждет вылетевшего в самом конце Ярослава Дронова и его группу «Час Пик». Что касается остальных участников, то Дина Гарипова (победительница первого сезона), выступив на «Евровидении», пользуется большим успехом в российской провинции, а Сергей Волчков (прошлогодний триумфатор) работает «под Магомаева» в больших московских залах. Наргиз Закирова со своими колоритными кавер-версиями рок-хитов стала фаворитом корпоративных вечеринок. Впрочем, содержанием «Голоса» к нынешнему моменту стали не столько таланты участников, сколько дрожь и слезы наставников. Ну и конечно, остроты ведущего Дмитрия Нагиева , который за год, благодаря сериалу «Физрук», вернул себе статус народного героя, слегка потускневший после закрытия шоу «Осторожно, модерн». Соответственно, появились в «Голосе» вставные аттракционы, например юмористические выходы Ивана Урганта и Даниила Градского (сына Александра Борисовича) в отборочном туре. Первой в ходе отчетного концерта вылетела Мариам Мерабова , подопечная Леонида Агутина. Супруг Анжелики Варум традиционно выбрал себе самую профессиональную команду, но певице, судя по всему, недостало личного обаяния, хотя голос Мариам выше всяких похвал. Вторым выбыл Александр Бон , падаван Димы Билана. Артистичный молодой человек в смысле голоса серьезно проигрывал остальным участникам, при этом дошел до финала, но под конец проиграл, несмотря на крайне выигрышный номер с песней Земфиры «Девочка созрела». Наконец, победительницей вновь стала воспитанница Градского — Александра Воробьева. Во втором финальном туре она спела арию из «Призрака оперы» и блестяще вытянула действительно сложную и очень эффектную партию. Девушку поздравили лично Константин Эрнст , вручивший победительнице ключи от автомобиля, продюсер развлекательных программ Первого канала Юрий Аксюта и директор Universal Music Russia Дмитрий Коннов. Теперь Александру ждет выпуск альбома на упомянутом мейджор-лейбле и тур по России. Напоследок Эрнст сообщил, что в четвертом сезоне состав наставников полностью сменится. Теперь остается только пофантазировать о том, что, быть может, новая команда и за воспитание молодых дарований возьмется креативно. Возможно, они не только подберут участникам удачный репертуар из каверов, но и напишут для них новые песни. Впрочем, это мы узнаем лишь через год.\", \"title\": \"Третий «Голос» за Градского\", \"summary\": \"На Первом канале завершился третий сезон шоу «Голос». Победительницей с небольшим перевесом стала Александра Воробьева, подопечная Александра Градского.\", \"date\": \"2014-12-27 01:10:01\"}\n",
            "{\"url\": \"https://www.gazeta.ru/social/2017/10/31/10964858.shtml\", \"text\": \"В Кремле подтвердили факт сбора биологичекого материала россиян некоторыми эмиссарами и неправительственными организациями. По словам пресс-секретаря президента Дмитрия Песков а, такая информация поступила от спецслужб. «Эта информация по линии специальных служб России. Действительно, некоторые эмиссары ведут такую деятельность, представители неправительственных организаций и других органов. Такие случаи были зафиксированы, и у специальных служб, естественно, у президента эта информация имеется», — объяснил Песков. Накануне Владимир Путин сообщил, что «некие иностранные силы» занимаются сбором биоматериала представителей различных российских этносов. Так глава государства прокомментировал слова директора Российского общественного института избирательного права (РОИИП) Игоря Борисова в ходе заседания Совета при президенте по правам человека. Борисов рассказал, что некие лица собирают образы россиян при помощи систем видеонаблюдения. «Но образы-то, это ладно, — ответил Путин — Вы знаете, что биологический материал собирается по всей стране? Причем по разным этносам и людям, проживающим в разных географических точках Российской Федерации». «Вот вопрос — вот это зачем делают? Делают целенаправленно и профессионально. Мы такой вот объект очень большого интереса», — продолжил президент. Он добавил, что относиться к этому нужно без страха: «Они пускай делают, что они хотят, а мы должны делать то, что мы должны». Вскоре заявление президента прокомментировали в Совфеде — первый зампред комитета Совета Федерации по обороне и безопасности Франц Клинцевич заявил, что сбор биологического материала россиян ведется «соответствующими службами на Западе» с целью создания биологического оружия. «Не секрет, что тот или иной этнос по-разному реагирует на биологическое оружие. Отсюда и сбор биологического материала россиян, проживающих в разных географических точках. На Западе все делается крайне скрупулезно и выверяется вплоть до мелочей: если уж применять биологическое оружие, то наверняка», — рассказал сенатор РИА «Новости». Он отметил, что предупреждение президента России Владимира Путина было «очень своевременным». В конце июля учебное авиационное командование американских ВВС опубликовало контракт на закупку образцов РНК — живых тканей россиян европеоидной расы. Соответствующий документ был размещен на официальном портале правительственных тендеров. Из него следовало, что американским военным понадобились 12 образцов молекул РНК, участвующей в реализации генетической информации человека, а также 27 образцов синовиальной жидкости, обеспечивающей подвижность суставов. В контракте на закупку был также прописан ряд требований к потенциальным поставщикам образцов. «Все образцы (синовиальная ткань и образцы РНК) должны быть взяты в России у европеоидов. Правительство не будет рассматривать образцы тканей с Украины», — уточнялось в документе. Заказчики подчеркнули, что все свежезамороженные образцы синовиальной ткани и РНК должны быть получены у людей без травм опорно-двигательного аппарата. При этом образцы синовиальной ткани и РНК необязательно должны соответствовать друг другу — допускалось получение их от разных доноров. «Все образцы синовиальной ткани и РНК должны поступать от людей с отрицательным анализом на ВИЧ, гепатит B, гепатит C и сифилис», — говорится в тексте контракта. При предоставлении образцов поставщик должен предоставить информацию о соответствующем доноре: пол, возраст, этническую принадлежность, стаж курения, медицинскую историю, рост, вес, стаж курения и другие данные. В соответствии с условиями контракта, образцы должны быть поставлены на базу ВВС в Леклэнде (Сан-Антонио, Техас) в течение десяти дней с момента получения подрядчиком денег. В документе не уточнялось, в каких целях авиационное командование американских ВВС будет использовать полученные образцы живой ткани российских граждан.\", \"title\": \"«О сборе биоматериала россиян сообщили спецслужбы»\", \"summary\": \"Пресс-секретарь президента РФ Дмитрий Песков рассказал, что Владимир Путин получил информацию о сборе биологического материала россиян различных этносов от спецслужб. Накануне президент заявил, что «некие иностранные силы» с неизвестными целями занимаются сбором биоматериала российских граждан, проживающих в разных географических точках РФ. Путин добавил, что относиться к этому следует без страха: «пусть делают, что хотят», — считает президент.\", \"date\": \"2017-10-31 15:42:48\"}\n",
            "{\"url\": \"https://www.gazeta.ru/business/2013/02/11/4961389.shtml\", \"text\": \"АСВ прогнозирует рост объема вкладов в российских банках на 2,4–2,7 трлн рублей, до 16,7–16,9 трлн рублей в 2013 году. Это увеличение на 17–19%, говорится в обзоре агентства. «Данный сценарий носит инерционный характер и предполагает дальнейшее плавное увеличение доходов населения и сохранение текущего уровня ставок по вкладам», — предупреждают в АСВ. В прошлом году объём средств населения в банках увеличился на 2,4 трлн рублей, или на 20%, по сравнению с чуть более 2 трлн рублей в 2011 году. Общий объем депозитов составил 14,2 трлн рублей. Удельный вес капитализации процентов (увеличение объема вкладов за счет прироста процентов, а не новых депозитов) в 2012 году оценивается в 6,1 процентного пункта. Самыми частыми суммами для зачисления во вклад стали депозиты в диапазонах от 400 тыс. до 700 тыс. рублей и от 700 тыс. до 1 млн рублей. Такие вклады выросли на 24,1% по сумме и на 24% и 24,9% по количеству счетов соответственно. В прошедшем году впервые проявилось заметное различие в динамике застрахованных и незастрахованных вкладов, отмечают в АСВ. «Это связано с активным размещением на рынке сберегательных сертификатов на предъявителя, обеспечивших 9,1% всего прироста вкладов», — объяснили тенденцию в агентстве. На конец года объем средств, размещенных в этих сертификатах, составил 227,4 млрд рублей, показав рост почти в 20 раз, с 11,5 млрд рублей в 2011 году. До этого, напротив, наблюдалось сокращение вложений в сертификаты: так, в 2011 году их объем уменьшился на 2,5 млрд рублей, в 2010-м — на 1,5 млрд рублей. Практически весь рост рынка сберегательных сертификатов (более 97%) в прошлом году обеспечил один Сбербанк , который привлек 210 млрд рублей. Сберегательная активность населения в прошлом году была выше, чем в 2011 году, подчеркивают в АСВ. Рост вкладов в январе--ноябре 2012 года в среднем составлял 4,7 млрд рублей в день (среднедневной прирост за аналогичный период прошлого года — 3,7 млрд рублей). Существенное изменение в АСВ объяснили ростом доходов населения, увеличением процентных ставок и низкой инфляцией. Мониторинг процентных ставок, который АСВ проводит по топ-100 розничных банков, показал что 77 из них по итогам 2012 года повысили ставки по вкладам. В 11 банках ставки снизились. Средняя ставка по рублевым годовым вкладам в размере 700 тыс. рублей выросла на 0,9 п.п., до 9,7%. «В течение всего 2012 года сохранялась положительная реальная доходность по рублевым депозитам на 2–4 п.п. выше уровня инфляции», — посчитали в АСВ. По оценкам агентства, положительная доходность сохранится и в 2013 году. В октябре ведущие госбанки — Сбербанк и ВТБ — с перерывом в несколько часов объявили о повышении ставок по депозитам физических лиц. Госбанки были догоняющими: еще в августе многие российские частные банки из-за недостатка свободных средств на рынке активизировали борьбу за средства населения. Активность банков объяснялась недостатком ликвидности и выходом некоторых банков на рынок экспресс-кредитования, требующий ресурсов для развития. Главный экономист банка HSBC по России и СНГ Александр Морозов ожидает, что процентная ставка по депозитам начнет снижаться со второго полугодия. «Снижение произойдет как из-за замедления инфляции, так и в связи с уменьшением конкурентной борьбы банков за депозиты. Темпы роста потребкредитования снижаются, это приведет к уменьшению конкуренции за средства населения для фондирования кредитования», — объясняет экономист. В агентстве зафиксировали, что в конце года банки получили дополнительные 750 млрд рублей, что побило абсолютный рекорд 2011 года — 700 млрд рублей. Но рост сберегательной активности к концу года контрастирует с резким спадом кредитования в традиционно «высокий» предновогодний сезон. Например, портфель кредитов населению Сбербанка увеличился только на 1,9%, до 2,5 трлн рублей, против роста на 6,2% в декабре 2011 года. Роль сыграли некоторое насыщение рынка после 40-процентного роста в течение года и более осторожный подход банков к рискам при выборе заемщиков, объяснила аналитик компании «Совлинк» Ольга Беленькая. Снижение темпов роста (вкладов) в 2013 году предсказуемо, считает Дмитрий Мирошниченко из Центра развития. «Доходы населения растут очень медленно — с чего бы сберегать?» — аргументирует он. В целом в приросте депозитов все большую долю занимают проценты по предыдущим вкладам, а не рост новой базы, заметил Морозов. Но ситуация с ликвидностью в текущем году останется острой: роста деловой активности не предвидится, а приход иностранных инвесторов под вопросом, рассуждает Мирошниченко. Кроме того, в условиях регуляторного ограничения максимальных ставок по вкладам населения Центробанком банки станут больше конкурировать за корпоративные депозиты.\", \"title\": \"Банки снизят ставки по инерции\", \"summary\": \"Агентство по страхованию вкладов прогнозирует рост депозитов на 17–19% в текущем году. Это развитие по инерции: источником роста рынка станут доходы населения, активность конкурентной борьбы за вклады между банками снизится. Эксперты отмечают, что снижения ставок едва ли удастся избежать: потребкредитование, обеспечившее основной рост активов в прошлом году, замедляется, и банкам уже не нужны дорогие средства населения для роста.\", \"date\": \"2013-02-11 17:40:34\"}\n",
            "{\"url\": \"https://www.gazeta.ru/sport/2010/09/a_3422362.shtml\", \"text\": \"Главный тренер астанинского «Барыса» Андрей Хомутов после поражения от «Динамо» (1:3) в матче регулярного чемпионата КХЛ посетовал на многочисленный травмы и усталость. «Поздравляю «Динамо» с победой, — сказал бывший наставник бело-голубых. — Для нас это был тяжелый матч. Мы выглядели уставшими, поэтому у нас не получилась игра в атаке и особенно в большинстве. Да и оборона хромает. Эти два провала, когда пропустили шайбы, полностью сломали нашу игру. Конечно, потеря четырех ключевых защитников не может не сказаться на результате и качестве игры. Что ж, будем работать. — Нынешнее «Динамо» сильно отличается о от прошлогоднего, которое вы тренировали? — Это не «Динамо», а ХК МВД. Таково мое мнение. Все-таки практически весь состав ХК МВД играет здесь. Теперь это ОХК «Динамо». — А ОХК «Динамо» сильнее той команды, которую вы возглавляли? — Сезон покажет! Главный тренер московского «Динамо» Олег Знарок тоже пожаловался на проблемы с составом. «Мы имеем такие же проблемы, как и «Барыс»: у нас тоже очень много травмированных. Сегодня мои подопечные хорошо двигались. Выполнили все установки. Удачно забили. – Насколько серьезна травма Волкова ? – Наш голкипер более или менее здоров. — Почему не играл Лео Комаров? — А у него тоже травма. Не было смысла ставить его, поскольку с повреждением он выходил еще с «Югрой» и не показал своей игры. Зачем мучить человека, ведь с нападающими у нас нет проблем, чего не скажешь о ситуации с защитниками. — Нападающий Владимир Горбунов , который пока играет на позиции защитника, набирает очки в каждом матче. Может, его оставить в обороне? — Если любого нападающего поставить в защиту, то он будет действовать неординарно. Он может и придержать, и паузу сделать, и первый пас отдать. Короче, все то, что свойственно центрфорвардам. Стоит отметить, что Владимир также сыграл строго, без провалов. C другими новостями и подробностями матчей можно ознакомиться на странице КХЛ.\", \"title\": \"«Это не «Динамо», а ХК МВД»\", \"summary\": \"Наставник астанинского «Барыса» Андрей Хомутов после поражения от московского «Динамо» пожаловался на травмы. А рулевой бело-голубых Олег Знарок поведал о ситуации с вратарем Алексеем Волковым, получившим травму в первом периоде, и о причинах отсутствия в составе финского нападающего Лео Комарова.\", \"date\": \"2010-09-23 23:53:53\"}\n",
            "{\"url\": \"https://www.gazeta.ru/sport/2012/03/22/a_4100545.shtml\", \"text\": \"— Почему так напряженно для ЦСКА прошли первые две четверти матча? — «Бильбао» — очень хорошая команда. У них есть опытные игроки, выступавшие в сильнейших турнирах Европы и представляющие ведущие сборные. Они знают, как играть в баскетбол. Мне кажется, мы все сделали правильно, измотав соперника, навязав ему с первых минут плотный агрессивный баскетбол. Во второй половине у них уже не осталось сил. — То есть, ЦСКА в первой половине играл с соперником в кошки-мышки? — Нет. Просто нашей задачей было максимально вымотать соперника, что у нас и получилось. Агрессивную защиту мы сменяли активным нападением. — Тем не менее, вы непривычно много пропустили в первой половине. Что-то тренер по этому поводу говорил в перерыве? — Да. Но тут дело еще в том, что у испанцев было слишком много свободных бросков. Мы чересчур увлекались подстраховкой, стремились помогать друг другу — теряли игроков на дальней стороне. Этим соперник неплохо воспользовался. Потом стали действовать внимательнее, перекрывать первую передачу. И все стало получаться. — Украшение у вас под глазом ( Кириленко вышел из раздевалки с внушительного размера синяком ) — это следствие агрессивной игры? — Ничего страшного ( улыбается ). Главное, что это далеко от сердца. Это самое главное. — Как поскорее забыть столь крупную победу и готовиться к следующей игре? — Специфика таких матчей в том, что не важно, с каким счетом ты победил. Достаточно одного очка преимущества, чтобы набрать балл в серии. Поэтому мы будем с тем же настроем готовиться и ко второму матчу четвертьфинала. — Лидеры ЦСКА в концовке матча отдыхали, а молодежь так и не забила 100 очков, о которых просили болельщики. Обидно? — Абсолютно нет. Мы не стремимся к рекордам в очковом плане. На мой взгляд, игра была очень хорошей и без этого «стольника». — Ваш возможный соперник по полуфиналу определяется в паре «Панатинаикос» — «Маккаби». Следите за этой парой? — Обе эти команды сильны. Это опытные коллективы, которые ведут в бой два прекрасных тренера. Вчера вот «Маккаби» чуть не сдержал порыв «Пао», отсюда такой счет. «Газета.Ru» вела онлайн-трансляцию матча ЦСКА – «Бильбао». Новости Евролиги, Кубка вызова, Единой лиги ВТБ и многое другое можно узнать на странице баскетбольных еврокубков.\", \"title\": \"«Игра получилась и без «стольника»\", \"summary\": \"Лидер ЦСКА Андрей Кириленко после уверенной победы красно-синих в первом четвертьфинальном матче Евролиги над «Бильбао» рассказал о том, почему первая половина стала такой тяжелой для хозяев, а также отметил, что не расстроился по поводу ненабранных командой 100 очков.\", \"date\": \"2012-03-22 04:26:57\"}\n",
            "{\"url\": \"https://www.gazeta.ru/politics/2011/05/12_a_3614609.shtml\", \"text\": \"На заседании Центризбиркома в четверг было принято постановление о разъяснении порядка работы международных наблюдателей на выборах депутатов Госдумы в декабре 2011-го и президента РФ в марте 2012-го. Постановление существенно ограничивает деятельность наблюдателей, которые и без того могут приехать в Россию только по приглашению ЦИК. «Иностранным наблюдателем не может быть, как указывается в нашей рекомендации, гражданин РФ», — цитирует РИА «Новости» члена ЦИК Елену Дубровину , выступившую на заседании комиссии в четверг. В этом документе функции наблюдателей также довольно подробно расписаны. Они получат право наблюдать за подсчетом голосов и знакомиться с бюллетенями. Кроме того, теперь они официально имеют право общаться не только с кандидатами и представителями партий, но с членами избирательных комиссий. Сейчас в законе «Об основных гарантиях избирательных прав и права на участие в референдуме граждан Российской Федерации» о наблюдателях вообще говорится довольно мало. Согласно этому документу, иностранный наблюдатель — это просто «представитель иностранной или международной организации, наделенный правом осуществлять в порядке, установленном законом, наблюдение за подготовкой и проведением выборов и референдумов в Российской Федерации». Национальность и гражданство законом никак не регламентируются. Эксперт организации «Голос», которая занимается мониторингом выборов, Андрей Бузин считает, что нововведение ЦИК может существенно повлиять как на результат работы наблюдателей, так и на репутацию российских выборов. «ЦИК не хочет видеть добросовестных и высококвалифицированных наблюдателей, — говорит он. — Понятно, что граждане России лучше знают и законы, и реалии страны». Бузин считает, что ЦИК пытается контролировать международные наблюдательные организации, потому что «им можно в любой момент ограничить въезд в страну, в то время как гражданам России не нужны никакие разрешения на перемещения». Эксперт признает, что подобная мера в первую очередь может коснуться европейских организаций. А для того, чтобы выборы сочли легитимными, добавляет Бузин, «на них пригласят наблюдателей от ШОС , как в Белоруссии». «Чем выше уровень доверия к наблюдателям, тем выше уровень доверия к выборам», — добавляет глава юридической службы КПРФ Вадим Соловьев. В ОБСЕ, которая регулярно отправляет свои делегации на выборы по всему миру, прокомментировать нововведение не смогли, потому что еще его не видели. На прошлых парламентских выборах в 2007 году приглашение международных наблюдателей вызвало большой скандал. Так, ЦИК во главе с Владимиром Чуровым отказался приглашать представителей Бюро по правам человека ОБСЕ (БДИПЧ ОБСЕ) в самом начале кампании, заявив, что может пригласить их только непосредственно в последнюю неделю кампании. Наблюдатели ОБСЕ в ответ заявили, что им необходимо мониторить весь процесс выборов, а не только процесс голосования, и в Россию вообще не приехали.\", \"title\": \"Россиян исключили из наблюдения\", \"summary\": \"На приближающихся парламентских и президентских выборах граждане России больше не смогут работать в международных наблюдательных миссиях. Такое решение принял в четверг ЦИК. Российским членам делегаций нельзя ограничить и въезд в страну, и перемещения по ней, а иностранным — можно, указывают эксперты.\", \"date\": \"2011-05-12 22:39:03\"}\n"
          ],
          "name": "stdout"
        }
      ]
    },
    {
      "cell_type": "code",
      "metadata": {
        "colab": {
          "base_uri": "https://localhost:8080/"
        },
        "id": "ByJQpuM_tVsU",
        "outputId": "a80280ff-64f2-43b4-a898-f9a899aca595"
      },
      "source": [
        "!head -n 10 gazeta_test.txt"
      ],
      "execution_count": null,
      "outputs": [
        {
          "output_type": "stream",
          "text": [
            "{\"url\": \"https://www.gazeta.ru/science/2020/02/14_a_12960289.shtml\", \"text\": \"Американское аэрокосмическое агентство NASA огласило названия четырех космических миссий, которые в скором времени могут быть выбраны для реализации и запуск которых может состояться уже в конце этого десятилетия. Эти четыре проекта стали полуфиналистами конкурса, объявленного среди американских научных команд, в котором участвовало более десяти миссий. Все они были отобраны по критериям потенциальной пользы для науки и технической осуществимости проекта. В рамках программы Discovery NASA занимается планированием миссий, которые призваны дать ответы на фундаментальные вопросы о происхождении тел Солнечной системы и возможному наличию жизни на них. «Эти выбранные миссии могут трансформировать наше восприятие некоторых из наиболее активных и сложных миров в Солнечной системе, — заявил Томас Зурбучен, помощник директора NASA по науке. — Исследование каждого из этих небесных тел поможет раскрыть секреты о том, как они и им подобные объекты образовались в космосе». Каждый проект из выбранных полуфиналистов получит $3 млн на проработку концепции. Из четырех выбранных проектов NASA планирует отобрать две в 2021 году, чтобы профинансировать работу по их реализации в рамках программы Discovery. Два из четырех проектов посвящены исследованию Венеры, куда аппараты NASA не отправлялись уже свыше тридцати лет — с 1989 года, когда к этой планете был запущен зонд Magellan. Миссия VERITAS ( Venus Emissivity, Radio Science, InSAR, Topography, and Spectroscopy) призвана картировать поверхность Венеры для лучшего понимания геологической истории планеты и получения ответа на вопрос о причинах ее кардинальных отличий от Земли. Карта будет построена при помощи радара, установленного на орбитальном аппарате. В ходе миссии планируется узнать, продолжаются ли в наши дни на Венере тектонические и вулканические процессы. Кроме того, планируется картировать поверхность планеты в инфракрасном диапазоне. Миссия DAVINCI+ (Deep Atmosphere Venus Investigation of Noble gases, Chemistry and Imaging Plus) задумана для того, чтобы исследовать состав атмосферы Венеры, понять, как она формировалась и эволюционировала в прошлом, и ответить на вопрос о существовании когда-либо на планете жидкого океана. Сделать это планируется при помощи спускаемого аппарата, который будет проводить измерения от верхних слоев атмосферы до самой поверхности. Научные инструменты аппарата будут размещены внутри герметичного сферического корпуса, который должен защитить их от разрушительного воздействия высокой температуры атмосферы. + в названии миссии говорит о наличии в ее составе камер, которые будут присутствовать на борту орбитального и спускаемого аппаратов. «Проект DAVINCI+ пересекается по целям с российской миссией «Венера-Д», обе нацелены на посадку, поэтому в будущем возможно их совмещение в одном совместном проекте», — сказал «Газете.Ru» основатель проекта «Открытый космос» Виталий Егоров. Миссия TRIDENT должна исследовать Тритон — ледяной спутник Нептуна, известный ученым своей активностью. Данные, полученные американским зондом Voyager 2, показали, что поверхность Тритона активно обновляется. Ученые считают, что Тритон, на котором выпадает «снег» из органических веществ, может оказаться отличной целью для понимания вопросов происхождения аналогичных тел в Солнечной системе. Пролетев мимо Тритона, аппарат попытается картировать его поверхность, изучить активные процессы на его поверхности и определить, есть ли под его поверхностью жидкий океан. Миссия IVO (Io Volcano Observer) должна направиться к одному из самых интересных спутников Юпитера — Ио. Это тело с наиболее мощной вулканической активностью в Солнечной системе, которая поддерживается за счет мощного приливного воздействия со стороны Юпитера. Во время нескольких близких пролетов аппарат выяснит, как формируется лава на поверхности спутника.\", \"title\": \"Венера, Ио или Тритон: куда полетит NASA\", \"summary\": \"В NASA назвали четыре миссии в дальний космос, которые в этом десятилетии могут быть запущены американцами. Среди них — две миссии по изучению Венеры, полет к спутнику Юпитера и экспедиция к Тритону, спутнику Нептуна.\", \"date\": \"2020-02-14 16:39:11\"}\n",
            "{\"url\": \"https://www.gazeta.ru/social/2020/02/28/12980611.shtml\", \"text\": \"Около 11 тысяч зрителей увидели все самое лучшее, что есть на сегодняшний день в культуре Бурятии. В Кремле выступил Бурятский государственный академический театр оперы и балета, Национальный цирк, Бурятский национальный театр песни и танца «Байкал», ставший победителем шоу «Танцуют все!» на телеканале «Россия», а также другие профессиональные и самодеятельные коллективы региона. Более 300 артистов из одного региона на главной сцене страны - похоже это рекорд России. Зрителям рассказали, что Республике Бурятия, чье население составляет 1 миллион человек, сохранилась и развивается культура десятков национальностей, включая русских, бурятов, староверов (семейских), эвенков. И все они были представлены в Москве. Как писали после шоу зрители в соцсетях: «А мы думали, что в Бурятии только буряты живут…». Для неподготовленного зрителя это вообще были вечера открытий. Например, когда еще в Кремлевском дворце выстраивалась очередь из желающих попасть на прием к врачам-пульсологам и ламам-астрологам? А между тем буквально в паре метров можно было увидеть выставку Национального музея Бурятии о культуре и быте бурятского народа. И она не менее уникальна, чем китайская, или монгольская времен Чингисхана. И там же современное искусство, например, знаменитые работы скульптора Даши Намдакова. Не обошлось без политической составляющей. Перед началом праздничного шоу с главной сцены страны первый заместитель руководителя администрации президента России Сергей Кириенко зачитал поздравление президента Российской Федерации Владимира Путина , в котором говорилось: «Сердечно поздравляю вас с наступлением Нового года по лунному календарю и с наступлением Белого месяца! Этот светлый, особо почитаемый последователями буддизма праздник символизирует обновление природы, стремление человека к гармонии и чистоте помыслов. Он обращает верующих к духовным и нравственным истокам этой древней религии, ее непреходящим устоям и ценностям. Важно, что российские буддисты бережно хранят и передают из поколения в поколение традиции предков…». Заместитель председателя правительства России , полномочный представитель президента РФ в ДФО Юрий Трутнев , видимо, также был удивлен ажиотажем и аншлагом в Кремле и рассказал журналистам: «Я спросил у [главы Бурятии] Алексея Цыденова, сколько людей приехало из Бурятии на праздник, и он ответил: «Тысяча из шести». Это значит, что большая часть людей на празднике — из Москвы, значит, им это интересно!». Сам же Цыденов в своем выступлении посетовал на то, что в России все же мало что знают о Бурятии и ее традициях, но был оптимистичен: «Республика Бурятия богата своей историей, своими традициями. Наша цель — показать все возможности и огромный потенциал республики, чтобы не только жители Бурятии, но и вся Россия гордилась достижениями нашего народа. Мы хотим, чтобы жители всей России знали, что есть такая жемчужина — Бурятия». Небольшим, отдаленным и дотационным регионам всегда непросто быть замеченными властями. А их губернаторам и главам сложно быть ближе к высшему руководству страны по сравнению с их коллегами из более богатых субъектов. Но, похоже, главе Бурятии Алексею Цыденову удается переломить эту не самую приятную для многих регионов традицию. Цыденов пришел в Бурятию с поста замминистра транспорта России без опыта управления регионом. Но за три года сумел стать опытным региональным политиком, способным на неожиданные ходы. Как пример, нынешние посвященные Восточному новому году концерты в Москве. Пока другие регионы со своими местными праздниками и юбилеями стоят в очереди, чтобы «затащить» к себе руководителей страны на торжества, Цыденов, наоборот, сумел привезти свой регион в Москву. Причем не куда-нибудь, а в самый Кремль. Таким образом, всего за два столичных дня Бурятия решила сразу несколько задач, в том числе подтвердила свой статус буддийского лидера России и познакомила жителей всей страны со своей богатой культурой. Зрители после концерта отвечали Бурятии взаимностью. Можно обратить внимание лишь на некоторые высказанные в соцсетях мнения об увиденном в кремлевском дворце: «Люди в Бурятии очень талантливые», «Вот это красота! Срочно летим в Бурятию», «Буряты, вы крутые!», «Бурятия, мы вам завидуем!».\", \"title\": \"«Люди в Бурятии очень талантливые»\", \"summary\": \"25 и 26 февраля в Кремлевском дворце съездов праздновали Сагаалган — Восточный Новый год. Бурятия - центр российского буддизма и один из немногих регионов страны, где новый год встречают официально дважды.\", \"date\": \"2020-02-28 10:44:13\"}\n",
            "{\"url\": \"https://www.gazeta.ru/politics/2019/11/07_a_12800138.shtml\", \"text\": \"7 ноября в Белоруссии прошли выборы членов совета республики — верхней палаты парламента. В столице и шести областях республики были избраны по восемь сенаторов. Еще восемь членов совета назначит президент Белоруссии Александр Лукашенко. Голосование осуществлялось на заседаниях депутатов местных советов базового уровня и Мингорсовета. Выборы в верхнюю палату парламента прошли безальтернативно — президиумы районных и городских советов депутатов, а также исполнительных комитетов выдвинули восемь претендентов на восемь мест. Для победы каждому кандидату необходимо было набрать простое большинство голосов. Из предыдущего состава верхней палаты парламента планировали переизбраться всего 11 человек, то есть новый состав совета республики будет значительно обновлен. Все выдвинутые кандидатуры получили поддержку депутатов. Большинство членов совета республики беспартийные — это одна из главных особенностей белорусского парламента. Среди утвержденных сенаторов руководители промышленных и сельскохозяйственных предприятий, общественных организаций, научные сотрудники университетов, руководители школ и медицинских заведений. Результаты голосований будут утверждены 12 ноября. А через пять дней Белоруссию ждут выборы по мажоритарной системе в палату представителей — нижнюю палату парламента. Полномочия нынешнего состава парламента истекают в следующем году — в один год с президентскими. Однако проводить в 2020-м выборы президента и парламента глава страны Александр Лукашенко не захотел. Таким образом, срок полномочий парламентариев был немного сокращен, а новый состав начнет свою работу до конца 2019 года. Причем выборы в совет республики впервые проходят 7 ноября. Александр Лукашенко предложил приурочить их ко Дню Октябрьской революции. А вот выборы в палату представителей пройдут в воскресенье, к ним приковано гораздо больше общественного внимания. Всего были зарегистрированы 523 кандидата. С учетом того, что в палату представителей проходят 110 депутатов, средний конкурс составляет пять человек на место. Глава Центральной избирательной комиссии Лидия Ермошина 6 ноября заявила, что свои предвыборные программы опубликовали только 330 кандидатов. Двухпалатный парламент в Белоруссии несет, скорее, символическую роль. Начиная с 1996 года палата представителей не отклонила ни одного законопроекта, представленного президентом или правительством. Вся реальная власть сосредоточена в руках главы государства, который часто любит рассуждать об этом, особенно когда речь заходит о выборах. В основном, кстати, белорусский лидер сам поднимает вопрос о несменяемости власти в стране. «Мы уже четко определились, что в текущем году проводим парламентские выборы, а в следующем году — президентские, несмотря на прогнозы некоторых «знатоков» о том, что Лукашенко в нынешнем году, поскольку тихо и спокойно, быстренько проведет президентские выборы, чтобы опять схватить кресло и сесть в него надолго. Это полное заблуждение. Как я и обещал, все будет по закону и в рамках конституции», — говорил Лукашенко в ходе своей встречи с председателем ЦИК Лидией Ермошиной. В отличие от сегодняшних голосований, на выборах 17 ноября будут присутствовать наблюдатели. Аккредитованы почти 17,4 тыс. национальных наблюдателей. Причем, как ожидает председатель ЦИК Лидия Ермошина, их количество увеличится более чем в два раза. Пока на выборы в палату представителей получил аккредитацию 551 международный наблюдатель от СНГ, ОБСЕ , ПАСЕ. Для Лукашенко присутствие зарубежных наблюдателей — тема важная. К выборам в нижнюю палату президент относится как экзамену. Для Лукашенко выборы — возможность изменить свою репутацию «последнего диктатора Европы» в глазах своих западных партнеров. При этом президент все же подчеркивает, что Белоруссия проводит выборы без оглядки на Запад. «Я не думаю, что нам надо перед кем-то прогибаться и кого-то тащить в страну, приглашать на одни и вторые выборы. Но надо четко дать сигнал: кто хочет — приезжайте, — говорил он. — Все должно быть по закону. Как определили по конституции и закону, так мы и проведем выборы. Они для нашего народа, они не для кого-то. Хотя хотелось бы сохранить лицо и внешне выглядеть нормально». В ходе прошлых парламентских выборов Лукашенко проверку западных партнеров прошел. Впервые за 20 лет в палату представителей прошли сразу два оппозиционных кандидата — член Объединенной гражданской партии (ОГП) Анна Канопацкая и лингвист Елена Анисим, критиковавшая правительство из-за игнорирования вопросов национальной культуры и языка. Прохождение двух оппозиционеров в палату Евросоюз оценил как положительный признак и в первый раз за 12 лет признал парламентские выборы в Белоруссии. Затем последовало награждение от Брюсселя — отношения с Минском сдвинулись с мертвой точки. Более того, ЕС выразил готовность к сотрудничеству, в частности, к запуску переговоров по таможенным вопросам, а также перспективам возобновления энергетического диалога. «В то же время мы полностью осознаем, что не было ни конкретных, ни структурных изменений в ситуации с демократией и правами человека в Белоруссии, — говорила в 2016 году еврокомиссар Корина Крецу. — Тем не менее, мы приветствуем попадание в парламент первых непровластных депутатов впервые за 12 лет. Надеемся, что они внесут свежий воздух и новые идеи в орган, который сам за последнюю каденцию инициировал меньше пяти законопроектов». Вскоре Европейский союз снял большинство санкций с высокопоставленных белорусских чиновников, включая самого Лукашенко. Всем им, кроме разрешения вести дела с зарубежными структурами, вернули также право на въезд в ЕС. В 2016-м Лидия Ермошина назвала выборы в парламент свободными и «самыми демократичными с 2000 года». Чего ожидать 17 ноября — пока неизвестно. Однако на этот раз ни Канопацкую, ни Анисим не зарегистрировали кандидатами для участия в грядущих парламентских выборах. У ЦИК возникли претензии к сбору ими подписей. В регистрации отказано выдвиженцу от ОГП Геннадию Трубачу, оппозиционной журналистке Ирине Халип , члену общественной организации «Говори правду» Илье Борисову , Александру Абрамовичу , Наталье Кушнеровой и ряду других независимых кандидатов. Кроме того, была отменена регистрация кандидата от гражданской кампании «Европейская Беларусь» Полины Шарендо-Панасюк. В ходе своего телевизионного выступления она призвала Лукашенко покинуть пост президента. В «Европейской Беларуси» считают, что именно это заявление послужило причиной для снятия кандидата с гонки. Однако, как отмечает в разговоре с «Газетой.Ru» доцент кафедры политической истории МГИМО Кирилл Коктыш , у оппозиции и так низкие шансы пройти в парламент — и причина состоит в ее низкой популярности. «При действующих раскладах симпатия и так на стороне власти, там ей не требуются манипуляции, чтобы сохранить свои позиции. На самом деле, в любом случае, если говорить про белорусскую оппозицию, которая есть, там нет содержательной программы, внятной альтернативы, и в этом плане уровень поддержки всегда достаточно невысокий. Он никогда не выходил за 10%», — отмечает эксперт. Вместе с тем выборы 17 ноября все же могут принести определенные важные изменения в белорусский парламент — свое представительство могут увеличить политические партии, никогда не игравшие роль в политике постсоветской Белоруссии. Из зарегистрированных 560 кандидатов 367 (65,5%) являются членами партий. 19 апреля в своем ежегодном послании к народу Лукашенко, анонсируя изменения в конституции, заявил, что белорусский парламент должен «подтянуть политические партии, чтобы они генерировали нормальных руководителей». Изменения, к слову, коснутся перераспределения полномочий между ветвями власти. Об этом сказал сам президент в своем послании, отметив, что таким образом он готовит почву для своего будущего преемника. «Мне задают часто вопрос: хотел бы ты оставить эту конституцию своему преемнику? Я четко и прямо говорю: нет. Мы уже прошли тот этап, когда нам нужна была сильная власть, какая она сегодня есть, — сказал Лукашенко в апреле в ходе своего послания к белорусскому народу. — Надо нагружать властными полномочиями другие структуры и ветви власти. Чтобы, к примеру, за экономику отвечало правительство вместе с парламентом».\", \"title\": \"Вспомнить СССР: как Лукашенко провел выборы\", \"summary\": \"В Белоруссии в день годовщины Октябрьской революции выбрали членов верхней палаты парламента. Сегодняшнее голосование — пролог основной части электорального процесса: через десять дней в республике пройдут выборы в палату представителей, которые станут тестом для Александра Лукашенко, ведь за ними будут внимательно следить на Западе.\", \"date\": \"2019-11-07 19:55:08\"}\n",
            "{\"url\": \"https://www.gazeta.ru/culture/2020/03/01/a_12983905.shtml\", \"text\": \"Народная артистка РСФСР Надежда Бабкина в интервью шоу «Секрет на миллион» Леры Кудрявцевой рассказала о взаимоотношениях со своим гражданским мужем Евгением Гором (настоящая фамилия — Горшечков), который младше певицы на 30 лет. По словам исполнительницы, которая в этом марте отметит 70-летие, в своей квартире в центре Москвы она живет на постоянной основе без любимого мужчины, лишь периодически встречаясь там со своим избранником. «Когда я здесь одна, мне говорят: «Тебе там скукота». Никогда! Я иногда просто умышленно хочу побыть одна. Могу голая здесь ходить. Конечно, свет погашу. Чтобы вдруг из Кремля с подзорной трубы не подглядывали. А вдруг — понравлюсь?» — пояснила Бабкина. Она также призналась, что не обращает внимания на сплетни, касающиеся ее отношений с Гором, с которым познакомилась еще в начале нулевых, тогда как ее мужчина переживает по поводу слухов, считая, что люди видят в ее романе с Бабкиной расчет. «Эта болезненная тема не для меня. Как нас только не пеняли, как только на нас не заглядывали, но я толстокожая, я выдержу. Мне по барабану, хоть разорвитесь. Мы никогда в жизни не сюсюкались на людях, не старались везде показываться — это крайне редко [происходит]. И каждый раз он очень переживал по причине, что у него своя деятельность, свой бизнес, он сам реализовывается. Никогда в жизни он не пользовался моим именем. Это единственный человек, который — живя, находясь со мной, общаясь — ни разу не воспользовался. И не хочет», — рассказала народная артистка. Кроме того, певица поведала о том, как ей удалось сбросить 22 кг. Согласно Бабкиной, вариант диеты «8-16» ей посоветовала актриса Нонна Гришаева — и он мгновенно стал давать результат. «Я сидела на диетах, но все они бесполезны. Как нормальный человек придерживаюсь, что надо следить за собой, надо обязательно правильно питаться, — пояснила она. — На протяжении восьми часов ты кушаешь — что хочешь и когда хочешь. И 16 часов не кушать. Я этим живу уже три месяца. Пока [сбросила] 22 кг», — поделилась исполнительница. В студии шоу Кудрявцевой она также откровенно рассказала о смерти младшего брата Валерия, которого не стало в 2003 году. Говоря о трагедии, Бабкина не сумела сдержать слез. «Он ушел из жизни в 49 лет. У нас был Новый год, и он говорит: «Надька, приезжай к нам, будем встречать вместе». Мы так сладко провели Новый год, я осталось ночевать, наступило первое число, прекрасно посидели», — начала артистка. «К вечеру я поехала домой. Но не успела доехать до главпочтамта , звонит его жена Лялька и сообщает, что Валера умирает. А я за рулем. Я спрашиваю, перепились они там, что ли. Жена его просит, чтобы я возвращалась. А на самом деле он уже умер, — цитирует Бабкину НТВ. — А я за рулем, у меня в глазах икона Божьей Матери. Я у нее просила дать шанс, защитить брата. Возвращаюсь, там стоит скорая помощь, милиция. Я к Валере кидаюсь, а он черный весь на полу лежит. Разрыв аорты, сердце мгновенно... Я его за ноги хватаю, а ноги теплые. Видимо, какие-то еще судороги были, я его растираю. А сосед у них врач. Врач говорит, что это невозможно, требую массировать сердце. А он лежит весь синий с улыбкой на лице». По словам Бабкиной, в тот момент для нее будто оборвался мир — и она несколько лет не могла прийти в себя. «Он никогда не жаловался [на здоровье]. Это же военный человек. Они проходят бесконечные проверки, — призналась Бабкина. — Его телефон до сих пор в моей записной книжке, рука не поднимается его удалить».\", \"title\": \"«Он очень переживал»: Бабкина об отношениях с молодым мужем\", \"summary\": \"Народная артистка РСФСР Надежда Бабкина в интервью Лере Кудрявцевой откровенно рассказала о своей жизни. В частности, певица объяснила, почему ее гражданский муж переживает по поводу слухов об их отношениях, а также не смогла сдержать слез, говоря о смерти младшего брата.\", \"date\": \"2020-03-01 16:50:06\"}\n",
            "{\"url\": \"https://www.gazeta.ru/business/2020/02/06/12946633.shtml\", \"text\": \"Депутат Верховной рады от партии «Слуга народа» Елизавета Богуцкая раскритиковала законопроект о выплате пенсий украинцам, проживающим на территориях Донбасса. По ее мнению, эти люди могут придерживаться пророссийских взглядов. «Кто будет определять, какие взгляды у тех пенсионеров? Поддерживают они Россию или нет? Мы им будем выплачивать? Мы сейчас плюем на всех переселенцев, которые сейчас нуждаются в жилье, в выплатах здесь и ничего не получают», — заявила Богуцкая. Так она прокомментировала закон о праве на пенсию для жителей Донбасса. 5 февраля Верховная рада отправила проект на повторное первое чтение. Согласно документу, отправленному на доработку, должна быть упрощена процедура доказательства права на выплату пенсий для тех, кто был вынужден покинуть свое место жительства из-за вооруженного конфликта. К тому же законопроект предусматривал установление особого режима и порядок получения выплат для пенсионеров, которые остались проживать на территориях Донбасса. Кроме того, проектом предусмотрена выплата задолженности по пенсиям без срока давности. В Раде документ критикуют, отмечая, что на его реализацию потребуется $6 млрд. Другой депутат Верховной рады от партии «Слуга народа» Марина Бардина ранее заявила, что проект доработают и примут. «Мы снова увидим этот законопроект в парламенте, он получит большую поддержку и будет проголосован. Я не делю граждан Украины, мы все одинаковы, и если человек работал всю жизнь и заработал пенсию, он должен ее получить», — говорила Бардина. При этом власти самопровозглашенных Луганской и Донецкой народных республик заявили ранее, что повысят пенсии на 20% с 1 января 2020 года. В ДНР, кроме пенсий, увеличатся оклады сотрудников бюджетной сферы. «С января 2020 года на 26% произойдет повышение должностных окладов труженикам бюджетной сферы, в том числе медикам, учителям, социальным работникам. Кроме того, будет повышен размер пенсии на 20% каждому пенсионеру», — говорил глава ДНР Денис Пушилин. Бюджетникам и пенсионерам Донбасса прекратили выплачивать пенсии и зарплаты с 2014 года по указу бывшего президента Петра Порошенко. В документе отмечалось, что они должны быть восстановлены после возвращения регионов под контроль украинской власти. С апреля 2015 года власти самопровозглашенных ДНР и ЛНР начали самостоятельно выплачивать пенсии жителям, а с мая — и зарплаты бюджетникам. Сейчас пенсионеры, проживающие в ДНР и ЛНР, могут получать их только на подконтрольной Киеву территории Донбасса. Для этого необходимо предоставить украинской стороне документы, включая справку переселенца. Ее можно получить только при оформлении новой регистрации по месту пребывания на территории Украины. Уполномоченный Верховной рады по правам человека Людмила Денисова в октябре 2019 года говорила, что задолженность Украины по выплатам пенсий и социальных льгот жителям неподконтрольных Киеву территорий Донбасса, а также переселенцам-пенсионерам составляет не менее 41,7 млрд гривен или около $1,67 млрд. В среднем задолженность на одного переселенца составляет около 31 тысячи гривен ($1,24 тыс.). Общая сумма невыплаченных пенсий пенсионерам, которые находились на учете в органах фонда на оккупированных территориях, с июня 2016 года по апрель 2018 года составляет 33,6 миллиарда гривен, указала Денисова. Граждане самопровозглашенных республик, собирающиеся переехать на постоянное место жительства в нашу страну, получат российские пенсии, объяснили ранее в Пенсионном фонде России. При этом в фонде пообещали, что будут оказывать «всяческое содействие» новым гражданам РФ в подтверждении их стажа и заработка, взяв на себя обмен данными с Пенсионным фондом Украины или пенсионными фондами ДНР и ЛНР.\", \"title\": \"«Поддерживают Россию»: почему Киев не платит пенсии Донбассу\", \"summary\": \"Украина не должна выплачивать пенсии жителям ДНР и ЛНР, поскольку они могут поддерживать Россию, заявила депутат Верховной рады от партии «Слуга народа» Елизавета Богуцкая. Она выступила против закона о праве на получение пособий от государства для жителей Донбасса. По ее словам, это плевок в сторону тех, кто уехал на Украину и ничего не получил.\", \"date\": \"2020-02-06 12:41:24\"}\n",
            "{\"url\": \"https://www.gazeta.ru/army/2019/11/13/12810158.shtml\", \"text\": \"Журналист Питер Суппли Бенсон датского издания Berlingske обратил внимание на усиление России в Арктике, а также на головной патрульный корабль ледового класса «Иван Папанин», который он назвал «новым кулаком» страны в регионе. В статье он указал, что новость о спуске боевого корабля на воду в Санкт-Петербурге получила международный резонанс. Автор материала отметил уникальность ледокола, оснащенного не только пушками, но и ракетами, которые могут быть применены для стрельбы и по другим кораблям, и по позициям противника на берегу. Длина » Ивана Папанина », согласно приведенным данным, составляет 114 м, а водоизмещение — 8,5 тыс. тонн. Ледокол оснастят крылатыми ракетами «Калибр», дальность которых может превышать 200 км. Планируется, что в арсенале этих ледоколов будет по восемь «Калибров». Учитывая эти обстоятельства, автор статьи выразил обеспокоенность в связи с тем, что Дания инвестирует в Арктику и Гренландию слишком мало средств и из-за этого отстает от России, которая тем временем создает новые ледоколы. Головной патрульный корабль ледового класса «Иван Папанин» был спроектирован Центральным морским конструкторским бюро «Алмаз». Этот проект — одна из новейших разработок, предназначенных для оснащения надводной составляющей ВМФ. «Иван Папанин» имеет функционал буксира, патрульного корабля и ледокола и был создан для охраны арктических водных ресурсов, а также конвоирования и буксировки в порт задержанных судов. Кроме того, корабль может поражать морские, береговые и воздушные цели и преодолевать лед толщиной 1,7 м. О строительстве в России ее первого патрульного корабля ледового класса стало известно в конце прошлого месяца. Судно призвано охранять морские границы государства в Арктике. Корабль проекта 23550 спустили на воду 25 октября на Адмиралтейских верфях. Он будет передан на вооружение ВМФ. Председатель совета директоров « Объединенной судостроительной корпорации » Георгий Полтавченко назвал судно уникальным универсальным кораблем — военным, но созданным для выполнения мирных задач. «[Он] может решать неограниченное количество различных задач и благодаря заложенным конструкторским решениям работать в Арктическом регионе максимально эффективно», — обратил внимание топ-менеджер. В свою очередь гендиректор верфей Александр Бузаков указал на то, что «Иван Папанин» не имеет аналогов по своим техническим характеристикам. Он отметил символичность того, что на этом же стапеле строится самодвижущаяся платформа «Северный полюс»: такое же название носила первая в мире научно-исследовательская станция, которая в 1937 году дрейфовала в Арктике под руководством Ивана Папанина. По словам начальника технического управления ВМФ Игоря Зварича, судно обладает сверхпрочным корпусом, мощной главной энергетической установкой и современным вооружением. Район его плавания не ограничен. «Иван Папанин» может автономно находится вдали от берега больше двух месяцев. Он будет вооружен переносным зенитно-ракетным комплексом и артиллерийской установкой. К тому же на нем можно разместить корабельный вертолет. Помимо этого, на судне будут установлены радиолокационная станция освещения воздушной и надводной обстановки и гидрометеорологическая станция. Россия активно усиливает свое техническое оснащение в арктическом регионе. В начале октября представитель госкорпорации Росатом сообщил РИА «Новости», что на самом мощном в мире универсальном атомном ледоколе «Арктика» запустили реакторную установку. Как пояснил собеседник агентства, таким образом началась управляемая цепная ядерная реакция и вывод реактора на минимальный уровень мощности, достаточный для контроля за ней. «Далее, после необходимых испытаний, состоится вывод реакторов на энергетический уровень мощности. А затем предстоит начать и ходовые испытания «Арктики», — отметил представитель госкорпорации. Этот ледокол построили по заказу Росатома на Балтийском заводе в Санкт-Петербурге. Планируется, что его сдадут в эксплуатацию уже в 2020 году. Сейчас на заводе строятся два серийных атомохода проекта 22220 «Сибирь» и «Урал». В августе Росатом и Балтзавод подписали контракт на создание еще двух атомоходов этого проекта. «Арктика» обладает компактной и экономичной реакторной установкой «РИТМ-200», состоящей из двух ядерных реакторов тепловой мощностью 175 мегаватт каждый. Ее компоновка позволяет разместить основное оборудование внутри корпуса парогенерирующего блока. «РИТМ-200» был разработан нижегородским « ОКБМ Африкантов ».\", \"title\": \"«Новый кулак в Арктике»: в Дании испугались «Ивана Папанина»\", \"summary\": \"Датского журналиста обеспокоила активность России в Арктике, как и новый головной патрульный корабль ледового класса «Иван Папанин». Он был спущен на воду в конце октября и обратил на себя внимание представителей СМИ тем, что может быть вооружен как пушками, так и ракетами, способными стрелять по другим кораблям.\", \"date\": \"2019-11-13 13:03:37\"}\n",
            "{\"url\": \"https://www.gazeta.ru/politics/2019/10/03_a_12735529.shtml\", \"text\": \"Выступление главы российской делегации Петра Толстого на заседании Парламентской ассамблеи Совета Европы (ПАСЕ) было прервано выкриками антироссийского активиста. В итоге за неуважение выступающего спикер организации Лилиан Мори Паскье попросила выдворить мешавшего выступлению из зала. В четверг, 3 октября, в ПАСЕ обсуждали акции протеста, которые проходили в Москве этим летом перед выборами в Мосгордуму. После выступления основного докладчика и ряда представителей политических групп в ПАСЕ слово было предоставлено Толстому. «Я очень рад тому, что сегодня у России есть возможность в этой ассамблее отвечать на обвинения, которые звучат в наш адрес», — начал российский политик. Но его прервали выкрики неизвестного. В продолжение Толстой отметил: «Вот, вы видите, что происходит у вас здесь в колыбели демократии». После этого в процесс выступления представителя России вмешалась спикер ПАСЕ, которая распорядилась вывести из зала активиста. «Мне кажется, что это такая достаточно яркая иллюстрация к тому, как за последние годы в Европе распространяются клише о нашей стране и как тревожно пугают друг друга коллеги отсутствием демократии в России», — продолжил Толстой. По словам председателя комитета Госдумы по международным делам Леонида Слуцкого, «какой-то сумасшедший», проникший на балкон зала пленарных заседаний, пытался своими выкриками сорвать выступление Петра Толстого. «Силами безопасности Дворца Европы буквально в минуты удалось его нейтрализовать. Но это еще одно свидетельство эрозии европейского общества на фоне общей антироссийской истерии», — добавил Слуцкий. В первый день осенней сессии ПАСЕ, 30 сентября, политгруппа «Альянс либералов и демократов за Европу» предложила провести дебаты по поводу митингов, которые прошли в июле и августе этого года в Москве и в результате которых были задержаны порядка 1,7 тыс. человек. На часть из задержанных завели уголовные дела. 77 членов ассамблеи поддержали это предложение, 33 парламентария высказались против. Изначально депутаты настаивали на проведении дискуссии с подготовкой доклада и резолюции, однако позже формат изменили на текущее обсуждение, которое не предполагает обязывающих рекомендаций. Российские парламентарии, между тем, считают, что обсуждение вопросов, связанных с московскими протестными акциями, является прямым вмешательством во внутренние дела России, что недопустимо. «Рассчитываем на беспристрастные оценки московских событий при учете официальной позиции нашей страны», — заявил ранее Леонид Слуцкий. Однако его ожидания не оправдались. Так, Слуцкий посчитал представленный доклад по теме дискуссии «политизированным и необъективным». «Российская Федерация выполнила подавляющее большинство обязательств, взятых при вступлении в нашу организацию в 1996 году. Что касается ситуации с выборами в Московскую городскую думу , то, конечно, нагнетание страстей вокруг этих выборов является абсолютно искусственным», — заявил член российской делегации в ПАСЕ на заседании ассамблеи. По словам Слуцкого, российское законодательство об участии в массовых демонстрациях и митингах значительно мягче, нежели в других европейских странах. «Нам следует прекратить практику искусственного преследования стран Совета Европы по надуманным причинам. Выборы в Московскую городскую думу прошли абсолютно демократично и свободно. И этого не отрицает российская оппозиция: победили как раз оппозиционеры, Москва всегда была, есть и остается демократическим городом», — обратил внимание депутат Госдумы. Вместе с тем в Кремле отметили, что российская сторона готова дать ответы на любые имеющиеся у членов ПАСЕ вопросы, передает РИА «Новости». «Нам не нравится, когда внутрироссийские дела обсуждают где-то. Мы считаем, что это исключительно наше дело, но, вместе с тем, если имеются какие-то конструктивные вопросы, то, естественно, и члены нашей делегации, и любые представители российской стороны всегда готовы дать конструктивные пояснения», — сказал ранее пресс-секретарь российского президента Дмитрий Песков. Подобное мнение выразили в Совфеде. Так, сенатор Олег Морозов заявил, что решение ПАСЕ вынести на повестку дня обсуждение внутренних российских проблем является грубейшим вмешательством в дела РФ. «Это абсолютно не входит в компетенцию ПАСЕ. Равно как и любые политические процессы, которые могут протекать в этих странах. Это откровенное политическое хамство и грубейшее вмешательство в наши дела», — сказал он, добавив, что события во Франции куда более значительны. Однако сама Франция старается свои протесты не обсуждать. Во время своего выступления в ПАСЕ президент республики Эммануэль Макрон лишь выразил обеспокоенность «подавлением манифестаций» в России.\", \"title\": \"«Смотрите, что у вас происходит»: как прервали речь Толстого в ПАСЕ\", \"summary\": \"Активист сорвал выступление главы делегации РФ в ПАСЕ Петра Толстого. Как только российский депутат начал свою речь, неизвестный стал что-то выкрикивать. В итоге мужчину пришлось силой вывести из зала заседаний. Инцидент случился во время обсуждения протестных акций, которые прошли летом этого года в Москве.\", \"date\": \"2019-10-03 20:46:08\"}\n",
            "{\"url\": \"https://www.gazeta.ru/politics/2020/01/03_a_12896168.shtml\", \"text\": \"Самые известные российские пранкеры Владимир «Вован» Кузнецов и Алексей «Лексус» Столяров, на счету которых множество розыгрышей мировых политиков первого эшелона, позвонили члену конгресса США от Демократической партии Максин Уотерс от имени шведской школьницы, экологической активистки Греты Тунберг и ее отца Сванте. Звонок был сделан в рамках нового анимационного шоу пранкеров Stars save the Earth. Россияне рассказали американскому политику, что Грета якобы сейчас участвует в митинге в штате Северная Каролина «в поддержку экологии острова Чунга-Чанга». В этой связи «Тунберги» предложили Уотерс также поддержать экологию острова (несуществующего), чтобы ее речь затем якобы транслировать на мероприятии, передает РИА «Новости». «Я очень рада, что Грета с вами в Северной Каролине, где вы сосредоточены на защите очень важного острова Чунга-Чанга. Самое главное сейчас — убедиться, что остров защищен, что вы даете ему всю поддержку, которую вы можете дать», — заявила конгрессвумен США. «Отец Греты» также рассказал Уотерс, что его дочь лишилась сна и аппетита из-за того, что глава Белого дома Дональд Трамп не подписал Парижское соглашение по климату. «Я крикнула ему, чтобы он подписал Парижское соглашение по климату. Он подошел ко мне, наклонился и тихо сказал: «Послушай меня внимательно, маленькая девочка, ты никогда не добьешься своей цели, как и те дураки из конгресса, которые пытаются обвинить меня», — якобы рассказала Грета по секрету Уотерс о том, что произошло на недавней Генеральной ассамблее ООН в Нью-Йорке. Более того, «Тунберги» на совершенно секретной основе поведали Уотерс о том, что имеют компромат на президента США — записанные на диктофон слова Трампа о том, что его будущий конкурент на президентских выборах в этом году, бывший вице-президент США Джозеф Байден «пойдет под суд вместе с шайкой экологов и демократов », для которых уже приготовлены «отдельные камеры». Услышав такое сенсационное признание, Уотерс предложила Грете выступить с обличительной речью против Трампа в конгрессе. «Мы собираемся испробовать все, что у нас есть, чтобы объявить ему импичмент», — подчеркнула демократ. Несколько дней назад Байден заявил, что будет подчиняться любой повестке, в том числе вызову в сенат для дачи показаний по делу об импичменте Трампа. «Прежде всего, я собираюсь подчиниться любой повестке, которая будет мне отправлена», — сказал Байден во время своего выступления в Фэрфилде. Бывший вице-президент неожиданно сменил свою риторику после того, как в субботу, 28 декабря, он отказался давать показания республиканцам в сенате. Тогда Байден отметил, что импичмент касается только Трампа. «Я не собираюсь делать вид, что в повестках республиканцев есть какие-либо правовые основания для моих показаний по делу об импичменте. Этот импичмент касается поведения Трампа, а не моего», — написал бывший вице-президент США в Twitter. Байден — один из потенциальных кандидатов в президенты от Демократической партии. Согласно опросу CNN от 19 декабря, Байден лидирует в предвыборной гонке демократов, его рейтинг составляет 26%. При этом этот показатель на 6% больше его ближайшего конкурента — сенатора от штата Вермонт Берни Сандерса. Байден фактически напрямую связан с запуском процедуры импичмента в отношении Трампа в палате представителей. В сентябре демократы в нижней палате конгресса организовали расследование из-за жалобы сотрудника разведки, который уличил президента США в давлении на Украину. Разведчик утверждал, что Трамп якобы потребовал от Киева начать разбирательства в отношении компании Burisma в обмен на военную помощь США. В совет правления фирмы входил сын Байдена Хантер, который также должен был стать объектом расследования. Демократы в конгрессе расценили действия Трампа как попытку найти компромат на своего вероятного соперника на выборах 2020 года, поэтому и запустили импичмент в нижней палате конгресса США. Впоследствии палата представителей предъявила обвинение Трампу по двум статьям — злоупотребление властью и препятствование расследованию. В феврале 2017 года те же пранкеры уже разыгрывали Уотерс по телефону, сообщив от имени тогдашнего украинского премьер-министра Владимира Гройсмана о «вмешательстве Москвы во внутренние дела страны Лимпопо». Вован и Лексус пожаловались конгрессвумен, что власть в стране захватил доктор Айболит. Уотерс купилась на розыгрыш, пообещав разобраться в ситуации. «Если что, США будут на вашей стороне, ребята. И эти новые вторжения в эти места… Я не знаю, сколько у нас там людей из наших разведывательных ведомств, но нам нужно больше информации по этому поводу», — заявила Уотерс. Несколькими месяцами ранее Вован и Лексус дозвонились до министра энергетики США Рика Перри. Представившись опять же Владимиром Гройсманом , пранкеры более 20 минут беседовали с Перри о санкциях в отношении России и ценах на американский уголь для Украины. Под конец разговора Кузнецов и Столяров начали откровенно разыгрывать американского министра, заявив, что тогдашний президент Украины Петр Порошенко лично изобрел новый вид биологического топлива, для изготовления которого необходимо смешивать самогон и навоз. Но даже тогда Перри не заметил подвоха и невозмутимо ответил, что будет ждать ближайшей возможности встретиться с сенатором Джоном Маккейном для обсуждения этого вопроса. Перри также пообещал лично опробовать инновационное топливо.\", \"title\": \"Именем Греты Тунберг: Вован и Лексус разыграли конгрессвумен\", \"summary\": \"Пранкеры Вован и Лексус разыграли члена конгресса США Максин Уотерс, позвонив ей от имени экоактивистки Греты Тунберг и предложив записать обращение к участникам митинга «в поддержку экологии острова Чунга-Чанга». Также они поведали Уотерс по секрету, что имеют компрометирующие главу Белого дома Дональда Трампа аудиозаписи. В ответ Уотерс позвала «Грету» выступить в конгрессе с речью против президента США.\", \"date\": \"2020-01-03 19:25:16\"}\n",
            "{\"url\": \"https://www.gazeta.ru/culture/2019/11/06/a_12797978.shtml\", \"text\": \"Российский актер и театральный педагог Виталий Жигалин ушел из жизни в возрасте 48 лет после продолжительной болезни. О случившейся 5 ноября трагедии сообщается на официальной странице Самарского академического театра драмы имени Максима Горького в Facebook. «На сцене нашего театра Виталий Иванович прослужил почти 25 лет, создав огромное количество многогранных и ярких образов. Он запомнится как импульсивный и харизматичный актер, обладавший сильной творческой энергетикой, как любящий отец, внимательный педагог и человек с сильным волевым характером», — написали коллеги артиста, добавив, что прощание с ним пройдет в помещении самарского Дома актеров утром 8 ноября. Министерство культуры Самарской области выразило соболезнования коллегам, родным и близким Жигалина через страницу в соцсети. «Виталий Иванович был бесстрашным и решительным артистом, всегда отстаивал своё мнение и уникальную позицию на сцене», — отметили в пресс-службе ведомства. В самарский драмтеатр Жигалин устроился сразу после окончания Воронежского государственного института в 1995 году. За долгие годы театральной службы он сыграл в 35 спектаклях, последними из которых стали «Роковая ошибка» Михаила Рощина , «История лошади» Льва Толстого , «Побег из Шоушенка» Стивена Кинга , «Алые паруса» Александра Грина , «Панночка» Нины Садур и «Три сестры» Антона Чехова. Широкой российской аудитории Жигалин известен благодаря ролям в сериалах «Улицы разбитых фонарей», «Раскол», «Невский», «Ментовские войны», «Чужой район» и многих других. Фильмография актера насчитывает 14 проектов, над которыми он работал с 2002-го по 2014 год. Незадолго до смерти Жигалина не стало его коллеги по сериалу «Улицы разбитых фонарей», народного артиста России Игоря Шибанова. На сайте Театра юных зрителей имени Александра Брянцева сообщалось, что в последний раз актер выходил на сцену 14 сентября, в свой 75-й день рождения, сыграв роль Кучумова в постановке «Бешеные деньги». С этим спектаклем Шибанов собирался выступить в Краснодаре 28 сентября, но в день поездки у него остановилось сердце. По словам коллеги актера, народной артистки РСФСР Ирины Соколовой , ему стало плохо прямо в аэропорту Пулково у стойки регистрации. Об этом она рассказала изданию 78.Ru. «Наклонился, схватился за живот. Его увезли на «скорой» уже в больнице у него остановилось сердце. Он должен был лететь в Краснодар, играть в спектакле «Бешеные деньги», — поделилась артистка. В последнее время, по словам Соколовой, Шибанов плохо себя чувствовал, и во время празднования его дня рождения коллеги всячески подбадривали именинника и желали ему здоровья. Минувшей весной в сети заговорили о «проклятии «Улиц разбитых фонарей», потому что в течение последних нескольких лет из жизни ушли более десяти актеров сериала. В апреле этого года скончался Александр Васильев , известный в том числе по ролям в сериалах «Бандитский Петербург» и «Особенности национальной охоты», а в августе прошлого года не стало народного артиста России Анатолия Узденского. В июле 2018 года в возрасте 74 лет умер еще один актер популярного сериала — заслуженный артист России и профессор Красноярского института искусств Владислав Жуковский. Сообщалось, что все они скончались из-за тяжелых заболеваний. Актеры Татьяна Малыщицкая и Юрий Ароян, также игравшие в «Улицах», ушли из жизни в июне 2018 года. Грузинского артиста Юрия Арояна , скончавшегося от хронических заболеваний, нашли мертвым 20 июня прошлого года. В апреле 2018-го из умер режиссер театра «Балтийский дом» и один из актеров сериала Владимир Тыкке , а через полторы недели после этого — советский мим Борис Агешин, сыгравший в «Улицах» капитана госбезопасности Игнатьева. В ноябре 2017 года после продолжительной болезни скончался Сергей Кудрявцев , а менее чем через месяц после его гибели не стало Николая Годовикова. Известно, что актер долгое время боролся с онкологическим заболеванием.\", \"title\": \"Умер актер сериала «Улицы разбитых фонарей»\", \"summary\": \"Актер сериала «Улицы разбитых фонарей» Виталий Жигалин скончался на 49-м году жизни после продолжительной болезни. Трагическую новость сообщили коллеги артиста из Самарского академического театра драмы имени Максима Горького, в котором он прослужил почти 25 лет.\", \"date\": \"2019-11-06 14:17:33\"}\n",
            "{\"url\": \"https://www.gazeta.ru/business/2020/01/23/12924146.shtml\", \"text\": \"Госдума одобрила в первом чтении внесенные президентом РФ Владимиром Путиным поправки в Конституцию. В его основу легли предложения, которые президент России Владимир Путин озвучил в послании Федеральному собранию. Одно из них — регулярная индексация, формирование системы пенсионного обеспечения граждан России «на основе принципов всеобщности, справедливости и солидарности поколений». Сопредседатель профильной рабочей группы по Конституции России Талия Хабриева пояснила, что поправка об индексации пенсий распространяется и на работающих пенсионеров. По словам Хабриевой, само правило сформулировано без изъятий, и возможна только конкретизация порядка в федеральном законе. О том, что из нынешних поправок в Конституцию проистекает и индексация пенсий работающим пенсионерам, заявил и депутат Госдумы Олег Шеин. По его словам, увеличение выплат для работающих пенсионеров будет производиться автоматически. Для этого не нужно даже писать заявление. По словам депутата, оно может быть принято уже в конце марта. Индексация пенсий всем работающим пенсионерам, в том числе с инвалидностью, не производится с 2016 года. И менять это решение в правительстве не собирались до последнего времени. В 2017 году министр финансов Антон Силуанов предлагал вернуться к вопросу об индексации таких пенсий в 2020 году. В октябре 2019 года Антон Дроздов , возглавлявший тогда ПФР , говорил, что на это нет денег. На возобновление индексации пенсий работающим пенсионерам в 2020 году потребовалось бы 368 млрд рублей, отмечал он. «Поправками в Конституцию закрепляется то, что государство готово выполнять свои обязательства и в тяжелые для пенсионной системы годы. Однако, во-первых, уже сейчас по закону индексация выплат предусмотрена. Предложение закрепить ее на уровне Конституции — это констатация уже существующих норм и подчеркнутое подтверждение исполнения государством своих обязательств. Во-вторых, индексация работающим пенсионерам производится и сейчас, но перерасчет производится без фактической выплаты. Только после выхода на заслуженный отдых с рабочего места официально появляется право на получение ранее накопленных уже в период выдачи средств с индивидуального счета», — говорит независимый пенсионный консультант Сергей Звенигородский. По словам Вячеслава Абрамова, директора офиса продаж « БКС Брокер », в прошлом году была проведена пенсионная реформа, которой многие остались недовольны. Она закрепила, что в ходу нее поэтапно будет повышен возраст получения выплат от государства. Реформа началась с 2019 года. Если раньше возраст выхода на заслуженный отдых составлял 55 лет для женщин и 60 лет для мужчин, то с 2019 года он постепенно увеличивается — в среднем на полгода каждый год. К 2028 году порог достигнет 60 лет для женщин и 65 лет для мужчин. Благодаря ней, количество людей, получающих пенсию, снизилось. Соответственно, ПФР сэкономил деньги. «Решение вернуть индексацию выплат работающим пенсионерам может быть принято именно сейчас, потому что оно ранее сильно повлияло на рейтинги власти. Вероятнее всего, дополнительные средства будут изыскивать за счет снижения льгот для нефтегазового сектора экономики, введения налога на добычу полезных ископаемых для попутного нефтяного газа, который ранее налогом не облагался, а также за счет улучшения собираемости НДФЛ», — говорит Павел Сигал первый вице президент «Опоры России». По его словам, работающих пенсионеров насчитывается 9,6 млн из 43 млн зарегистрированных. Это около 8,5% электората. «Индексация пенсий работающим пенсионерам – справедливая и необходимая мера. Не должно быть различия между теми, кто имеет занятость и не работает. Пенсия — это выплата людям, достигшим установленного возраста. Поэтому лишение работающих лиц пожилого возраста индексации по принципу «у них и так есть, на что жить» — совершенно неприемлемо», — говорит Иван Капустянский , ведущий аналитик Forex Optimum. По мнению эксперта, деньги на индексацию вряд ли будут взяты из Фонда национального благосостояния ( ФНБ ). «Да, он будет «распечатан», как предполагается, в 2020 году при превышении им установленных Бюджетным кодексом 7% ВВП. Но данные средства могут быть использованы лишь на инвестиционные, инфраструктурные проекты, но не на социальные выплаты. Но источники могут быть иными. Частично внутри самого ПФР за счет уменьшения выплат из-за роста пенсионного возраста. По этой причине в 2020 году, как сообщил ПФР, не выйдут на пенсию 800 тыс. россиян. Помимо этого, традиционно ПФР пополняется из госбюджета. Его профицит, то есть избыток средств, составит в 2020 году 876 млрд руб.», — говорит эксперт.\", \"title\": \"Дождались: работающим пенсионерам восстановят индексацию\", \"summary\": \"Работающие пенсионеры дождались индексации. Это следует из уже одобренных в первом чтении поправок в Конституцию. Так что работающие пенсионеры смогут получить замороженную с 2016 года прибавку к пенсии. В России их насчитывается более девяти миллионов. Эксперты называют это восстановлением справедливости.\", \"date\": \"2020-01-23 19:32:12\"}\n"
          ],
          "name": "stdout"
        }
      ]
    },
    {
      "cell_type": "code",
      "metadata": {
        "id": "5pZ2UGS2DGjH"
      },
      "source": [
        "import random\n",
        "import pandas as pd\n",
        "\n",
        "def read_gazeta_records(file_name, shuffle=True, sort_by_date=False):\n",
        "    assert shuffle != sort_by_date\n",
        "    records = []\n",
        "    with open(file_name, \"r\") as r:\n",
        "        for line in r:\n",
        "            records.append(eval(line)) # Simple hack\n",
        "    records = pd.DataFrame(records)\n",
        "    if sort_by_date:\n",
        "        records = records.sort(\"date\")\n",
        "    if shuffle:\n",
        "        records = records.sample(frac=1)\n",
        "    return records"
      ],
      "execution_count": 3,
      "outputs": []
    },
    {
      "cell_type": "code",
      "metadata": {
        "id": "GNDp-BunEA91"
      },
      "source": [
        "train_records = read_gazeta_records(\"gazeta_train.txt\")\n",
        "val_records = read_gazeta_records(\"gazeta_val.txt\")\n",
        "test_records = read_gazeta_records(\"gazeta_test.txt\")"
      ],
      "execution_count": 4,
      "outputs": []
    },
    {
      "cell_type": "code",
      "metadata": {
        "colab": {
          "base_uri": "https://localhost:8080/"
        },
        "id": "Ir5Ati12fh7y",
        "outputId": "91635c5b-a88b-4f7c-90c1-58d5c49d1ced"
      },
      "source": [
        "test_col = test_records.columns\n",
        "train_col = train_records.columns\n",
        "val_col = val_records.columns\n",
        "train_col\n",
        "test_col"
      ],
      "execution_count": null,
      "outputs": [
        {
          "output_type": "execute_result",
          "data": {
            "text/plain": [
              "Index(['url', 'text', 'title', 'summary', 'date'], dtype='object')"
            ]
          },
          "metadata": {
            "tags": []
          },
          "execution_count": 6
        }
      ]
    },
    {
      "cell_type": "code",
      "metadata": {
        "id": "GfW3UKHJn5p4"
      },
      "source": [
        "#train_records.loc[train_records['url']=='']\n",
        "def empty_finder(col_list,dataframe_):\n",
        "  for elem in col_list:\n",
        "    print(elem)\n",
        "    print(dataframe_.loc[dataframe_[elem]==''])\n"
      ],
      "execution_count": null,
      "outputs": []
    },
    {
      "cell_type": "code",
      "metadata": {
        "colab": {
          "base_uri": "https://localhost:8080/"
        },
        "id": "kV7UaKY-pEPq",
        "outputId": "7dcb8f6d-625f-43bc-b252-b7daf9066cf6"
      },
      "source": [
        "empty_finder(train_col,train_records)\n",
        "empty_finder(test_col,test_records)\n",
        "empty_finder(val_col,val_records)"
      ],
      "execution_count": null,
      "outputs": [
        {
          "output_type": "stream",
          "text": [
            "url\n",
            "Empty DataFrame\n",
            "Columns: [url, text, title, summary, date]\n",
            "Index: []\n",
            "text\n",
            "Empty DataFrame\n",
            "Columns: [url, text, title, summary, date]\n",
            "Index: []\n",
            "title\n",
            "Empty DataFrame\n",
            "Columns: [url, text, title, summary, date]\n",
            "Index: []\n",
            "summary\n",
            "Empty DataFrame\n",
            "Columns: [url, text, title, summary, date]\n",
            "Index: []\n",
            "date\n",
            "Empty DataFrame\n",
            "Columns: [url, text, title, summary, date]\n",
            "Index: []\n",
            "url\n",
            "Empty DataFrame\n",
            "Columns: [url, text, title, summary, date]\n",
            "Index: []\n",
            "text\n",
            "Empty DataFrame\n",
            "Columns: [url, text, title, summary, date]\n",
            "Index: []\n",
            "title\n",
            "Empty DataFrame\n",
            "Columns: [url, text, title, summary, date]\n",
            "Index: []\n",
            "summary\n",
            "Empty DataFrame\n",
            "Columns: [url, text, title, summary, date]\n",
            "Index: []\n",
            "date\n",
            "Empty DataFrame\n",
            "Columns: [url, text, title, summary, date]\n",
            "Index: []\n",
            "url\n",
            "Empty DataFrame\n",
            "Columns: [url, text, title, summary, date]\n",
            "Index: []\n",
            "text\n",
            "Empty DataFrame\n",
            "Columns: [url, text, title, summary, date]\n",
            "Index: []\n",
            "title\n",
            "Empty DataFrame\n",
            "Columns: [url, text, title, summary, date]\n",
            "Index: []\n",
            "summary\n",
            "Empty DataFrame\n",
            "Columns: [url, text, title, summary, date]\n",
            "Index: []\n",
            "date\n",
            "Empty DataFrame\n",
            "Columns: [url, text, title, summary, date]\n",
            "Index: []\n"
          ],
          "name": "stdout"
        }
      ]
    },
    {
      "cell_type": "markdown",
      "metadata": {
        "id": "QsAcVSli3r3S"
      },
      "source": [
        "## 1 задание: TextRank (порог: 0.35 BLEU)"
      ]
    },
    {
      "cell_type": "markdown",
      "metadata": {
        "id": "c7jAQp-_Ds98"
      },
      "source": [
        "TextRank - unsupervised метод для составления кратких выжимок из текста. \n",
        "Описание метода:\n",
        "\n",
        "1. Сплитим текст по предложениям\n",
        "2. Считаем \"похожесть\" предложений между собой\n",
        "3. Строим граф предложений с взвешенными ребрами\n",
        "4. С помощью алгоритм PageRank получаем наиболее важные предложения, на основе которых делаем summary.\n",
        "\n",
        "Функция похожести можно сделать и из нейросетевых(или около) моделек: FastText, ELMO и BERT. Выберете один метод, загрузите предобученную модель и с ее помощью для каждого предложениия сделайте sentence embedding. С помощью косинусной меры определяйте похожесть предложений.\n",
        "\n",
        "Предобученные модели можно взять по [ссылке](http://docs.deeppavlov.ai/en/master/features/pretrained_vectors.html)."
      ]
    },
    {
      "cell_type": "code",
      "metadata": {
        "id": "4e6SiOquSsYQ"
      },
      "source": [
        "from nltk.translate.bleu_score import corpus_bleu\n",
        "from rouge import Rouge\n",
        "\n",
        "def calc_scores(references, predictions, metric=\"all\"):\n",
        "    print(\"Count:\", len(predictions))\n",
        "    print(\"Ref:\", references[-1])\n",
        "    print(\"Hyp:\", predictions[-1])\n",
        "\n",
        "    if metric in (\"bleu\", \"all\"):\n",
        "        print(\"BLEU: \", corpus_bleu([[r] for r in references], predictions))\n",
        "    if metric in (\"rouge\", \"all\"):\n",
        "        rouge = Rouge()\n",
        "        scores = rouge.get_scores(predictions, references, avg=True)\n",
        "        print(\"ROUGE: \", scores)"
      ],
      "execution_count": 5,
      "outputs": []
    },
    {
      "cell_type": "code",
      "metadata": {
        "colab": {
          "base_uri": "https://localhost:8080/"
        },
        "id": "Ccf6Su5GCJKp",
        "outputId": "b4d462c3-fd18-4d61-e3b3-0eea407ebdf1"
      },
      "source": [
        "# texts = ['Привет,я хочу получить свои ебмедденги слов', 'И мои пожалуйста!']\n",
        "# tokens,token_embs,subtokens, subtoken_embs, sent_max_embs, sent_mean_embs, bert_pooler_outputs = m(texts)\n",
        "!pip install sentence_transformers"
      ],
      "execution_count": 6,
      "outputs": [
        {
          "output_type": "stream",
          "text": [
            "Collecting sentence_transformers\n",
            "\u001b[?25l  Downloading https://files.pythonhosted.org/packages/f5/5a/6e41e8383913dd2ba923cdcd02be2e03911595f4d2f9de559ecbed80d2d3/sentence-transformers-0.3.9.tar.gz (64kB)\n",
            "\r\u001b[K     |█████                           | 10kB 28.5MB/s eta 0:00:01\r\u001b[K     |██████████▏                     | 20kB 10.3MB/s eta 0:00:01\r\u001b[K     |███████████████▎                | 30kB 8.4MB/s eta 0:00:01\r\u001b[K     |████████████████████▎           | 40kB 7.5MB/s eta 0:00:01\r\u001b[K     |█████████████████████████▍      | 51kB 4.0MB/s eta 0:00:01\r\u001b[K     |██████████████████████████████▌ | 61kB 4.3MB/s eta 0:00:01\r\u001b[K     |████████████████████████████████| 71kB 3.6MB/s \n",
            "\u001b[?25hCollecting transformers<3.6.0,>=3.1.0\n",
            "  Using cached https://files.pythonhosted.org/packages/3a/83/e74092e7f24a08d751aa59b37a9fc572b2e4af3918cb66f7766c3affb1b4/transformers-3.5.1-py3-none-any.whl\n",
            "Requirement already satisfied: tqdm in /usr/local/lib/python3.6/dist-packages (from sentence_transformers) (4.41.1)\n",
            "Requirement already satisfied: torch>=1.6.0 in /usr/local/lib/python3.6/dist-packages (from sentence_transformers) (1.7.0+cu101)\n",
            "Requirement already satisfied: numpy in /usr/local/lib/python3.6/dist-packages (from sentence_transformers) (1.18.5)\n",
            "Requirement already satisfied: scikit-learn in /usr/local/lib/python3.6/dist-packages (from sentence_transformers) (0.22.2.post1)\n",
            "Requirement already satisfied: scipy in /usr/local/lib/python3.6/dist-packages (from sentence_transformers) (1.4.1)\n",
            "Requirement already satisfied: nltk in /usr/local/lib/python3.6/dist-packages (from sentence_transformers) (3.5)\n",
            "Requirement already satisfied: protobuf in /usr/local/lib/python3.6/dist-packages (from transformers<3.6.0,>=3.1.0->sentence_transformers) (3.12.4)\n",
            "Requirement already satisfied: dataclasses; python_version < \"3.7\" in /usr/local/lib/python3.6/dist-packages (from transformers<3.6.0,>=3.1.0->sentence_transformers) (0.8)\n",
            "Requirement already satisfied: sentencepiece==0.1.91 in /usr/local/lib/python3.6/dist-packages (from transformers<3.6.0,>=3.1.0->sentence_transformers) (0.1.91)\n",
            "Collecting tokenizers==0.9.3\n",
            "  Using cached https://files.pythonhosted.org/packages/4c/34/b39eb9994bc3c999270b69c9eea40ecc6f0e97991dba28282b9fd32d44ee/tokenizers-0.9.3-cp36-cp36m-manylinux1_x86_64.whl\n",
            "Requirement already satisfied: filelock in /usr/local/lib/python3.6/dist-packages (from transformers<3.6.0,>=3.1.0->sentence_transformers) (3.0.12)\n",
            "Requirement already satisfied: sacremoses in /usr/local/lib/python3.6/dist-packages (from transformers<3.6.0,>=3.1.0->sentence_transformers) (0.0.43)\n",
            "Requirement already satisfied: requests in /usr/local/lib/python3.6/dist-packages (from transformers<3.6.0,>=3.1.0->sentence_transformers) (2.23.0)\n",
            "Requirement already satisfied: regex!=2019.12.17 in /usr/local/lib/python3.6/dist-packages (from transformers<3.6.0,>=3.1.0->sentence_transformers) (2019.12.20)\n",
            "Requirement already satisfied: packaging in /usr/local/lib/python3.6/dist-packages (from transformers<3.6.0,>=3.1.0->sentence_transformers) (20.4)\n",
            "Requirement already satisfied: future in /usr/local/lib/python3.6/dist-packages (from torch>=1.6.0->sentence_transformers) (0.16.0)\n",
            "Requirement already satisfied: typing-extensions in /usr/local/lib/python3.6/dist-packages (from torch>=1.6.0->sentence_transformers) (3.7.4.3)\n",
            "Requirement already satisfied: joblib>=0.11 in /usr/local/lib/python3.6/dist-packages (from scikit-learn->sentence_transformers) (0.17.0)\n",
            "Requirement already satisfied: click in /usr/local/lib/python3.6/dist-packages (from nltk->sentence_transformers) (7.1.2)\n",
            "Requirement already satisfied: six>=1.9 in /usr/local/lib/python3.6/dist-packages (from protobuf->transformers<3.6.0,>=3.1.0->sentence_transformers) (1.15.0)\n",
            "Requirement already satisfied: setuptools in /usr/local/lib/python3.6/dist-packages (from protobuf->transformers<3.6.0,>=3.1.0->sentence_transformers) (50.3.2)\n",
            "Requirement already satisfied: urllib3!=1.25.0,!=1.25.1,<1.26,>=1.21.1 in /usr/local/lib/python3.6/dist-packages (from requests->transformers<3.6.0,>=3.1.0->sentence_transformers) (1.24.3)\n",
            "Requirement already satisfied: idna<3,>=2.5 in /usr/local/lib/python3.6/dist-packages (from requests->transformers<3.6.0,>=3.1.0->sentence_transformers) (2.10)\n",
            "Requirement already satisfied: chardet<4,>=3.0.2 in /usr/local/lib/python3.6/dist-packages (from requests->transformers<3.6.0,>=3.1.0->sentence_transformers) (3.0.4)\n",
            "Requirement already satisfied: certifi>=2017.4.17 in /usr/local/lib/python3.6/dist-packages (from requests->transformers<3.6.0,>=3.1.0->sentence_transformers) (2020.11.8)\n",
            "Requirement already satisfied: pyparsing>=2.0.2 in /usr/local/lib/python3.6/dist-packages (from packaging->transformers<3.6.0,>=3.1.0->sentence_transformers) (2.4.7)\n",
            "Building wheels for collected packages: sentence-transformers\n",
            "  Building wheel for sentence-transformers (setup.py) ... \u001b[?25l\u001b[?25hdone\n",
            "  Created wheel for sentence-transformers: filename=sentence_transformers-0.3.9-cp36-none-any.whl size=101036 sha256=1e8916dd0b51210580c7192b091c68b595dfd1229fe08f52ac494bd566a502fa\n",
            "  Stored in directory: /root/.cache/pip/wheels/fc/89/43/f2f5bc00b03ef9724b0f6254a97eaf159a4c4ddc024b33e07a\n",
            "Successfully built sentence-transformers\n",
            "Installing collected packages: tokenizers, transformers, sentence-transformers\n",
            "  Found existing installation: tokenizers 0.9.4\n",
            "    Uninstalling tokenizers-0.9.4:\n",
            "      Successfully uninstalled tokenizers-0.9.4\n",
            "  Found existing installation: transformers 4.0.0\n",
            "    Uninstalling transformers-4.0.0:\n",
            "      Successfully uninstalled transformers-4.0.0\n",
            "Successfully installed sentence-transformers-0.3.9 tokenizers-0.9.3 transformers-3.5.1\n"
          ],
          "name": "stdout"
        }
      ]
    },
    {
      "cell_type": "code",
      "metadata": {
        "id": "2teCADRRX2D0"
      },
      "source": [
        "#Non Pavlov\n",
        "from sentence_transformers import SentenceTransformer"
      ],
      "execution_count": 7,
      "outputs": []
    },
    {
      "cell_type": "code",
      "metadata": {
        "colab": {
          "base_uri": "https://localhost:8080/"
        },
        "id": "roBB30ZQX6pZ",
        "outputId": "03dd080a-b8fa-4e97-b65b-689cdaeede05"
      },
      "source": [
        "#model = SentenceTransformer('xlm-r-bert-base-nli-stsb-mean-tokens',device='cuda') #low\n",
        "model2 = SentenceTransformer('distilbert-base-nli-mean-tokens',device='cuda')\n",
        "#model3 = SentenceTransformer(m,device='cuda')"
      ],
      "execution_count": 8,
      "outputs": [
        {
          "output_type": "stream",
          "text": [
            "100%|██████████| 245M/245M [00:11<00:00, 21.9MB/s]\n"
          ],
          "name": "stderr"
        }
      ]
    },
    {
      "cell_type": "code",
      "metadata": {
        "id": "m2GwyRrMPAzS"
      },
      "source": [
        "from itertools import combinations\n",
        "from numpy.linalg import norm\n",
        "import networkx as nx\n",
        "import numpy as np\n",
        "import pymorphy2\n",
        "import razdel\n",
        "from sentence_transformers import SentenceTransformer, util\n",
        "from numpy.linalg import norm\n",
        "\n",
        "\n",
        "\n",
        "def your_super_words_similarity(words1, words2):\n",
        "    # Your code\n",
        "    #my_score = calc_scores(words1,words2)\n",
        "    #print(my_score)\n",
        "    #v1 = m([words1])\n",
        "    #v2 = m([words2])\n",
        "    #emb1 = model.encode([words1])\n",
        "    #emb2 = model.encode([words2])\n",
        "    #-norm(features1 - features2)\n",
        "    #util.pytorch_cos_sim(emb1, emb2)\n",
        "    #util.pytorch_cos_sim(words1, words2)\n",
        "    return util.pytorch_cos_sim(words1, words2)\n",
        "\n",
        "\n",
        "def gen_text_rank_summary(text, calc_similarity=your_super_words_similarity, summary_part=0.1, lower=True, morph=None):\n",
        "    '''\n",
        "    Составление summary с помощью TextRank\n",
        "    '''\n",
        "    # Разбиваем текст на предложения\n",
        "    sentences = [sentence.text.lower() for sentence in razdel.sentenize(text)]\n",
        "    #sent_embed = model.encode(sentences)\n",
        "    n_sentences = len(sentences)\n",
        "    #print(sentences,'sentense words')\n",
        "    #print(n_sentences,'n_sentences')\n",
        "\n",
        "\n",
        "\n",
        "    # Токенизируем предложения\n",
        "    #sentences_words = [[token.text.lower() if lower else token.text for token in razdel.tokenize(sentence)] for sentence in sentences]\n",
        "    #model_words2 = [[token.text.lower() if lower else token.text for token in razdel.tokenize(sentence)] for sentence in sentences]\n",
        "    #sentences_words = [sentence.lower() for sentence in sentences]\n",
        "    #print(sentences_words,'tokenized')\n",
        "\n",
        "    #0.33\n",
        "    model_words = [[token.lower() for token in model2.tokenizer.tokenize(sentence)] for sentence in sentences]\n",
        "    model_words2 = [x if len(x)>1 else 'солнце коты идут' for x in model_words]\n",
        "\n",
        "\n",
        "    # При необходимости лемматизируем слова\n",
        "    if morph is not None:\n",
        "        sentences_words = [[morph.parse(word)[0].normal_form for word in words] for words in sentences_words]\n",
        "\n",
        "    # Для каждой пары предложений считаем близость\n",
        "    pairs = combinations(range(n_sentences), 2)\n",
        "\n",
        "    #[print(i,j) for i,j in pairs]\n",
        "    sent_word_embedings = model2.encode(model_words2,device='cuda')\n",
        "    #pairs = combinations(range(n_sentences), 2)\n",
        "    \n",
        "\n",
        "    #scores = [(i, j, calc_similarity(sentences_words[i], sentences_words[j])) for i, j in pairs]\n",
        "    scores = [(i, j, calc_similarity(sent_word_embedings[i], sent_word_embedings[j])) for i, j in pairs]\n",
        "    \n",
        "    #print(len(scores),'scores')\n",
        "\n",
        "    # Строим граф с рёбрами, равными близости между предложениями\n",
        "    g = nx.Graph()\n",
        "    g.add_weighted_edges_from(scores)\n",
        "\n",
        "    # Считаем PageRank\n",
        "    pr = nx.pagerank(g,max_iter=60000000000)\n",
        "    result = [(i, pr[i], s) for i, s in enumerate(sentences) if i in pr]\n",
        "    result.sort(key=lambda x: x[1], reverse=True)\n",
        "\n",
        "    # Выбираем топ предложений\n",
        "    n_summary_sentences = max(int(n_sentences * summary_part), 1)\n",
        "    result = result[:n_summary_sentences]\n",
        "\n",
        "    # Восстанавливаем оригинальный их порядок\n",
        "    result.sort(key=lambda x: x[0])\n",
        "\n",
        "    # Восстанавливаем текст выжимки\n",
        "    predicted_summary = \" \".join([sentence for i, proba, sentence in result])\n",
        "    predicted_summary = predicted_summary.lower() if lower else predicted_summary\n",
        "    #predicted_summary = result[0]\n",
        "    return predicted_summary\n",
        "\n",
        "def calc_text_rank_score(records, calc_similarity=your_super_words_similarity, summary_part=0.088, lower=True, nrows=len(test_records), morph=None):\n",
        "    references = []\n",
        "    predictions = []\n",
        "    print(len(records))\n",
        "    conters = 0\n",
        "\n",
        "    for text, summary in records[['text', 'summary']].values[:nrows]:\n",
        "        conters += 1\n",
        "        if conters%100==0:\n",
        "          print(conters)\n",
        "\n",
        "        summary = summary if not lower else summary.lower()\n",
        "        references.append(summary)\n",
        "\n",
        "        predicted_summary = gen_text_rank_summary(text, calc_similarity, summary_part, lower, morph=None)\n",
        "        text = text if not lower else text.lower()\n",
        "        predictions.append(predicted_summary)\n",
        "\n",
        "    calc_scores(references, predictions)"
      ],
      "execution_count": 9,
      "outputs": []
    },
    {
      "cell_type": "code",
      "metadata": {
        "colab": {
          "base_uri": "https://localhost:8080/"
        },
        "id": "3FBFScT6SsYQ",
        "outputId": "b8969683-126d-4388-ec1a-c30262274467"
      },
      "source": [
        "calc_text_rank_score(test_records, calc_similarity=your_super_words_similarity) #model2 - 1k 11:43- summary_part=0.088"
      ],
      "execution_count": null,
      "outputs": [
        {
          "output_type": "stream",
          "text": [
            "5770\n",
            "100\n",
            "200\n",
            "300\n",
            "400\n",
            "500\n",
            "600\n",
            "700\n",
            "800\n",
            "900\n",
            "1000\n",
            "Count: 1000\n",
            "Ref: модернизация одной из самых мощных пушек в мире «пион», получившая название «малка», завершится до конца декабря. импортные части в орудиях заменили отечественными вариантами, сейчас пушка находится в поле и успешно проходит испытания.\n",
            "Hyp: сейчас модернизированная «малка» находится в поле и успешно проходит испытания», — добавил семизоров. сау 2с7м «малка» является модернизированным вариантом орудия 2с7 «пион», созданного в 1970-х годах и до сих пор считающегося одной из самых мощных пушек в мире. вооруженным силам арабских государств было абсолютно нечего противопоставить самоходным пушкам м-107. самоходная пушка 2с7 выполнена по безбашенной схеме, с размещением орудия открыто в кормовой части гусеничного шасси.\n",
            "BLEU:  0.3507615850423708\n",
            "ROUGE:  {'rouge-1': {'f': 0.13964039733877442, 'p': 0.14766526430498575, 'r': 0.14452416288888603}, 'rouge-2': {'f': 0.0303848597611867, 'p': 0.03233316183487606, 'r': 0.031880291388011094}, 'rouge-l': {'f': 0.1190177416015025, 'p': 0.1345577480980828, 'r': 0.13103424728315058}}\n"
          ],
          "name": "stdout"
        }
      ]
    },
    {
      "cell_type": "code",
      "metadata": {
        "colab": {
          "base_uri": "https://localhost:8080/"
        },
        "id": "yRGs1IfPWt9f",
        "outputId": "63055159-1ba1-49d5-866b-813eaaf40ea0"
      },
      "source": [
        "calc_text_rank_score(test_records, calc_similarity=your_super_words_similarity) #model2 - total 14:36- summary_part=0.088"
      ],
      "execution_count": null,
      "outputs": [
        {
          "output_type": "stream",
          "text": [
            "5770\n",
            "100\n",
            "200\n",
            "300\n",
            "400\n",
            "500\n",
            "600\n",
            "700\n",
            "800\n",
            "900\n",
            "1000\n",
            "1100\n",
            "1200\n",
            "1300\n",
            "1400\n",
            "1500\n",
            "1600\n",
            "1700\n",
            "1800\n",
            "1900\n",
            "2000\n",
            "2100\n",
            "2200\n",
            "2300\n",
            "2400\n",
            "2500\n",
            "2600\n",
            "2700\n",
            "2800\n",
            "2900\n",
            "3000\n",
            "3100\n",
            "3200\n",
            "3300\n",
            "3400\n",
            "3500\n",
            "3600\n",
            "3700\n",
            "3800\n",
            "3900\n",
            "4000\n",
            "4100\n",
            "4200\n",
            "4300\n",
            "4400\n",
            "4500\n",
            "4600\n",
            "4700\n",
            "4800\n",
            "4900\n",
            "5000\n",
            "5100\n",
            "5200\n",
            "5300\n",
            "5400\n",
            "5500\n",
            "5600\n",
            "5700\n",
            "Count: 5770\n",
            "Ref: вашингтон не обладал точной информацией о планах иранского генерала касема сулеймани по нападению на сша, признал госсекретарь майк помпео. тем не менее, по его словам, у белого дома все равно не было сомнений относительно неизбежности атак не только на сша, но и на другие страны.\n",
            "Hyp: думаю, нет сомнений, что сулеймани намеревался предпринять действия не только против наших сил и дипломатов в ираке», — указал помпео. иранский постпред при организации маджид тахт-раванчи заявил, что иран не может принять предложение вашингтона. иранские военные атаковали объекты сша, с которых было совершено «трусливое вооруженное нападение», уточнил дипломат, тегеран не стремится к войне, но будет защищать себя от любой агрессии со стороны вашингтона.\n",
            "BLEU:  0.35272965814137314\n",
            "ROUGE:  {'rouge-1': {'f': 0.13965716720062082, 'p': 0.14830810091566185, 'r': 0.1428440776661677}, 'rouge-2': {'f': 0.030287572476767156, 'p': 0.03221710256562092, 'r': 0.031163489089574115}, 'rouge-l': {'f': 0.11928351758736375, 'p': 0.13450725124821344, 'r': 0.12937822229120954}}\n"
          ],
          "name": "stdout"
        }
      ]
    },
    {
      "cell_type": "code",
      "metadata": {
        "id": "jBbtVFuIWuC-"
      },
      "source": [
        ""
      ],
      "execution_count": null,
      "outputs": []
    },
    {
      "cell_type": "code",
      "metadata": {
        "id": "D2vMTDscWuA3"
      },
      "source": [
        ""
      ],
      "execution_count": null,
      "outputs": []
    },
    {
      "cell_type": "markdown",
      "metadata": {
        "id": "xdTrfxycB7cd"
      },
      "source": [
        "## 2 Задание: Extractive RNN (порог: 0.35 BLEU)"
      ]
    },
    {
      "cell_type": "markdown",
      "metadata": {
        "id": "6Q7DeHDYFSjX"
      },
      "source": [
        "Второй метод, который вам предлагается улучшить – поиск предложений для summary с помощью RNN. В рассмотренной методе мы использовали LSTM для генерации sentence embedding. Попробуйте использовать другие архитектуры: CNN, Transformer; или добавьте предобученные модели, как и в первом задании.\n",
        "\n",
        "P.S. Тут предполагается, что придется изменять много кода в ячееках (например, поменять токенизацию). "
      ]
    },
    {
      "cell_type": "markdown",
      "metadata": {
        "id": "1dZamxigdEc-"
      },
      "source": [
        "### Модель\n",
        "\n",
        "Картинка для привлечения внимания:\n",
        "\n",
        "![img](https://storage.googleapis.com/groundai-web-prod/media%2Fusers%2Fuser_14%2Fproject_398421%2Fimages%2Farchitecture.png)\n",
        "\n",
        "Статья с оригинальным методом:\n",
        "https://arxiv.org/pdf/1611.04230.pdf\n",
        "\n",
        "Список вдохновения: \n",
        "- https://towardsdatascience.com/understanding-how-convolutional-neural-network-cnn-perform-text-classification-with-word-d2ee64b9dd0b Пример того, как можно применять CNN в текстовых задачах\n",
        "- https://arxiv.org/pdf/1808.08745.pdf Очень крутой метод генерации summary без Transformers\n",
        "- https://towardsdatascience.com/super-easy-way-to-get-sentence-embedding-using-fasttext-in-python-a70f34ac5b7c – простой метод генерации sentence embedding\n",
        "- https://towardsdatascience.com/fse-2b1ffa791cf9 – Необычный метод генерации sentence embedding\n",
        "- https://github.com/UKPLab/sentence-transformers – BERT предобученный для sentence embedding\n",
        "\n",
        "P.S. Выше написанные ссылки нужны только для разогрева вашей фантазии, можно воспользоваться ими, а можно придумать свой."
      ]
    },
    {
      "cell_type": "markdown",
      "metadata": {
        "id": "lOH4ZbLkg_sM"
      },
      "source": [
        "Комментарий к заданию:\n",
        "Если посмотреть на архитектуру ~~почти~~ SummaRuNNer, то в ней есть два главных элемента: первая часть, которая читает предложения и возвращает векторы на каждое предложение, и вторая, которая выбирает предложения для суммаризации. Вторую часть мы не трогаем, а первую меняем. На что меняем – как вы решите. Главное: она должна иметь хорошее качество и встроиться в текущую модель."
      ]
    },
    {
      "cell_type": "code",
      "metadata": {
        "id": "Sxsc0Orf8hGq"
      },
      "source": [
        "import copy\n",
        "import random\n",
        "\n",
        "def build_oracle_summary_greedy(text, gold_summary, calc_score, lower=True, max_sentences=30):\n",
        "    '''\n",
        "    Жадное построение oracle summary\n",
        "    '''\n",
        "    gold_summary = gold_summary.lower() if lower else gold_summary\n",
        "    # Делим текст на предложения\n",
        "    sentences = [sentence.text.lower() if lower else sentence.text for sentence in razdel.sentenize(text)][:max_sentences]\n",
        "    n_sentences = len(sentences)\n",
        "    oracle_summary_sentences = set()\n",
        "    score = -1.0\n",
        "    summaries = []\n",
        "    for _ in range(min(n_sentences, 2)):\n",
        "        for i in range(n_sentences):\n",
        "            if i in oracle_summary_sentences:\n",
        "                continue\n",
        "            current_summary_sentences = copy.copy(oracle_summary_sentences)\n",
        "            # Добавляем какое-то предложения к уже существующему summary\n",
        "            current_summary_sentences.add(i)\n",
        "            current_summary = \" \".join([sentences[index] for index in sorted(list(current_summary_sentences))])\n",
        "            # Считаем метрики\n",
        "            current_score = calc_score(current_summary, gold_summary)\n",
        "            summaries.append((current_score, current_summary_sentences))\n",
        "        # Если получилось улучшить метрики с добавлением какого-либо предложения, то пробуем добавить ещё\n",
        "        # Иначе на этом заканчиваем\n",
        "        best_summary_score, best_summary_sentences = max(summaries)\n",
        "        if best_summary_score <= score:\n",
        "            break\n",
        "        oracle_summary_sentences = best_summary_sentences\n",
        "        score = best_summary_score\n",
        "    oracle_summary = \" \".join([sentences[index] for index in sorted(list(oracle_summary_sentences))])\n",
        "    return oracle_summary, oracle_summary_sentences\n",
        "\n",
        "def calc_single_score(pred_summary, gold_summary, rouge):\n",
        "    return rouge.get_scores([pred_summary], [gold_summary], avg=True)['rouge-2']['f']"
      ],
      "execution_count": 46,
      "outputs": []
    },
    {
      "cell_type": "code",
      "metadata": {
        "colab": {
          "base_uri": "https://localhost:8080/",
          "height": 225,
          "referenced_widgets": [
            "e2088dac07dc4fe6937f256b92441a75",
            "3155d56d3f6340d5bd8a869f7ed20abd",
            "1b8dcfb9107a4a878ab5c04ace905ec7",
            "dc33005a0028465f809ed1dbe36abe4b",
            "e7d1dc432b80428f83e04d73fe466a11",
            "f7968f849d7b4f65bffa0f7d456c67f2",
            "5a4fae9022a14ed9993a750eacce1e46",
            "224c749a3dcb479b8a1e9fc1255166ba"
          ]
        },
        "id": "7T_ak-KDB8rp",
        "outputId": "019b085d-f533-4d24-a58d-3d9e4c102586"
      },
      "source": [
        "from tqdm import tqdm_notebook as tqdm\n",
        "\n",
        "def calc_oracle_score(records, nrows=1000, lower=True):\n",
        "    references = []\n",
        "    predictions = []\n",
        "    rouge = Rouge()\n",
        "  \n",
        "    for text, summary in tqdm(records[['text', 'summary']].values[:nrows]):\n",
        "        summary = summary if not lower else summary.lower()\n",
        "        references.append(summary)\n",
        "        predicted_summary, _ = build_oracle_summary_greedy(text, summary, calc_score=lambda x, y: calc_single_score(x, y, rouge))\n",
        "        predictions.append(predicted_summary)\n",
        "\n",
        "    calc_scores(references, predictions)\n",
        "\n",
        "calc_oracle_score(test_records)"
      ],
      "execution_count": 11,
      "outputs": [
        {
          "output_type": "stream",
          "text": [
            "/usr/local/lib/python3.6/dist-packages/ipykernel_launcher.py:8: TqdmDeprecationWarning: This function will be removed in tqdm==5.0.0\n",
            "Please use `tqdm.notebook.tqdm` instead of `tqdm.tqdm_notebook`\n",
            "  \n"
          ],
          "name": "stderr"
        },
        {
          "output_type": "display_data",
          "data": {
            "application/vnd.jupyter.widget-view+json": {
              "model_id": "e2088dac07dc4fe6937f256b92441a75",
              "version_minor": 0,
              "version_major": 2
            },
            "text/plain": [
              "HBox(children=(FloatProgress(value=0.0, max=1000.0), HTML(value='')))"
            ]
          },
          "metadata": {
            "tags": []
          }
        },
        {
          "output_type": "stream",
          "text": [
            "\n",
            "Count: 1000\n",
            "Ref: команда владимира зеленского и партия «слуга народа» уничтожат украинскую нацию, заявил депутат верховной рады илья кива. по его мнению, президент украины действительно хочет принести мир, но с такими сторонниками ему никаких врагов не надо — правящая партия «делает колонию» из страны. он также подчеркнул, что сподвижники неопытного зеленского «заведут его в блуд».\n",
            "Hyp: дальнейшая политика команды президента украины владимира зеленского и его партии «слуга народа» грозит уничтожением украинской нации, уверен депутат верховной рады от партии «оппозиционная платформа — за жизнь» илья кива. он также подчеркнул, что под разговоры о «российской агрессии» интересы украины сдают партнерам с запада и из сша.\n",
            "BLEU:  0.42980751362196556\n",
            "ROUGE:  {'rouge-1': {'f': 0.3543253390523239, 'p': 0.4321182006506703, 'r': 0.3179937018393389}, 'rouge-2': {'f': 0.2030358748946701, 'p': 0.25423914875929554, 'r': 0.18090410188798609}, 'rouge-l': {'f': 0.3050319991365936, 'p': 0.40243012346476825, 'r': 0.2952853626836471}}\n"
          ],
          "name": "stdout"
        }
      ]
    },
    {
      "cell_type": "markdown",
      "metadata": {
        "id": "uWgjewfWrbJZ"
      },
      "source": [
        "## (!)\n",
        "Если надо, поменяйте код загрузки токенизатора"
      ]
    },
    {
      "cell_type": "code",
      "metadata": {
        "colab": {
          "base_uri": "https://localhost:8080/"
        },
        "id": "8K8cmf5A2qAU",
        "outputId": "12809708-a6b1-45f9-c090-8c0ea7666797"
      },
      "source": [
        "!pip install youtokentome"
      ],
      "execution_count": 12,
      "outputs": [
        {
          "output_type": "stream",
          "text": [
            "Requirement already satisfied: youtokentome in /usr/local/lib/python3.6/dist-packages (1.0.6)\n",
            "Requirement already satisfied: Click>=7.0 in /usr/local/lib/python3.6/dist-packages (from youtokentome) (7.1.2)\n"
          ],
          "name": "stdout"
        }
      ]
    },
    {
      "cell_type": "code",
      "metadata": {
        "id": "-qIRKm4TCHzN"
      },
      "source": [
        "import os\n",
        "\n",
        "import youtokentome as yttm\n",
        "\n",
        "def train_bpe(records, model_path, model_type=\"bpe\", vocab_size=30000, lower=True):\n",
        "    temp_file_name = \"temp.txt\"\n",
        "    with open(temp_file_name, \"w\") as temp:\n",
        "        for text, summary in records[['text', 'summary']].values:\n",
        "            if lower:\n",
        "                summary = summary.lower()\n",
        "                text = text.lower()\n",
        "            if not text or not summary:\n",
        "                continue\n",
        "            temp.write(text + \"\\n\")\n",
        "            temp.write(summary + \"\\n\")\n",
        "    yttm.BPE.train(data=temp_file_name, vocab_size=vocab_size, model=model_path)\n",
        "\n",
        "train_bpe(train_records, \"BPE_model.bin\")\n"
      ],
      "execution_count": 13,
      "outputs": []
    },
    {
      "cell_type": "code",
      "metadata": {
        "colab": {
          "base_uri": "https://localhost:8080/"
        },
        "id": "p4czvXrFNSFW",
        "outputId": "4f93a432-9c22-4bc8-85fc-66fb961d273a"
      },
      "source": [
        "bpe_processor = yttm.BPE('BPE_model.bin')\n",
        "bpe_processor.encode([\"октябрь богат на изменения\"], output_type=yttm.OutputType.SUBWORD)"
      ],
      "execution_count": 14,
      "outputs": [
        {
          "output_type": "execute_result",
          "data": {
            "text/plain": [
              "[['▁октябрь', '▁богат', '▁на', '▁изменения']]"
            ]
          },
          "metadata": {
            "tags": []
          },
          "execution_count": 14
        }
      ]
    },
    {
      "cell_type": "markdown",
      "metadata": {
        "id": "AOkUL_YIGp-S"
      },
      "source": [
        "## (!)\n",
        "Если надо, поменяйте код словаря"
      ]
    },
    {
      "cell_type": "code",
      "metadata": {
        "id": "GhQYN1beiVEC"
      },
      "source": [
        "from collections import Counter\n",
        "from typing import List, Tuple\n",
        "import os\n",
        "\n",
        "class Vocabulary:\n",
        "    def __init__(self, bpe_processor):\n",
        "        self.index2word = bpe_processor.vocab()\n",
        "        self.word2index = {w: i for i, w in enumerate(self.index2word)}\n",
        "        self.word2count = Counter()\n",
        "\n",
        "    def get_pad(self):\n",
        "        return self.word2index[\"<PAD>\"]\n",
        "\n",
        "    def get_sos(self):\n",
        "        return self.word2index[\"<SOS>\"]\n",
        "\n",
        "    def get_eos(self):\n",
        "        return self.word2index[\"<EOS>\"]\n",
        "\n",
        "    def get_unk(self):\n",
        "        return self.word2index[\"<UNK>\"]\n",
        "    \n",
        "    def has_word(self, word) -> bool:\n",
        "        return word in self.word2index\n",
        "\n",
        "    def get_index(self, word):\n",
        "        if word in self.word2index:\n",
        "            return self.word2index[word]\n",
        "        return self.get_unk()\n",
        "\n",
        "    def get_word(self, index):\n",
        "        return self.index2word[index]\n",
        "\n",
        "    def size(self):\n",
        "        return len(self.index2word)\n",
        "\n",
        "    def is_empty(self):\n",
        "        empty_size = 4\n",
        "        return self.size() <= empty_size\n",
        "\n",
        "    def reset(self):\n",
        "        self.word2count = Counter()\n",
        "        self.index2word = [\"<pad>\", \"<sos>\", \"<eos>\", \"<unk>\"]\n",
        "        self.word2index = {word: index for index, word in enumerate(self.index2word)}"
      ],
      "execution_count": 15,
      "outputs": []
    },
    {
      "cell_type": "code",
      "metadata": {
        "colab": {
          "base_uri": "https://localhost:8080/"
        },
        "id": "2qvZtNcOifAn",
        "outputId": "d09d8681-388c-452c-d4be-22a9f9706674"
      },
      "source": [
        "vocabulary = Vocabulary(bpe_processor)\n",
        "vocabulary.size()"
      ],
      "execution_count": 16,
      "outputs": [
        {
          "output_type": "execute_result",
          "data": {
            "text/plain": [
              "30000"
            ]
          },
          "metadata": {
            "tags": []
          },
          "execution_count": 16
        }
      ]
    },
    {
      "cell_type": "code",
      "metadata": {
        "id": "Jdb-39jO-72q"
      },
      "source": [
        "from rouge import Rouge\n",
        "import razdel\n",
        "\n",
        "def add_oracle_summary_to_records(records, max_sentences=30, lower=True, nrows=1000):\n",
        "    rouge = Rouge()\n",
        "    sentences_ = []\n",
        "    oracle_sentences_ = []\n",
        "    oracle_summary_ = []\n",
        "    if nrows is not None:\n",
        "        records = records.iloc[:nrows].copy()\n",
        "    else:\n",
        "        records = records.copy()\n",
        "\n",
        "    for text, summary in tqdm(records[['text', 'summary']].values):\n",
        "        summary = summary.lower() if lower else summary\n",
        "        sentences = [sentence.text.lower() if lower else sentence.text for sentence in razdel.sentenize(text)][:max_sentences]\n",
        "        oracle_summary, sentences_indicies = build_oracle_summary_greedy(text, summary, calc_score=lambda x, y: calc_single_score(x, y, rouge),\n",
        "                                                                         lower=lower, max_sentences=max_sentences)\n",
        "        sentences_ += [sentences]\n",
        "        oracle_sentences_ += [list(sentences_indicies)]\n",
        "        oracle_summary_ += [oracle_summary]\n",
        "    records['sentences'] = sentences_\n",
        "    records['oracle_sentences'] = oracle_sentences_\n",
        "    records['oracle_summary'] = oracle_summary_\n",
        "    return records\n",
        "\n",
        "#ext_train_records = add_oracle_summary_to_records(train_records, nrows=30000)\n",
        "#ext_val_records = add_oracle_summary_to_records(val_records, nrows=None)\n",
        "#ext_test_records = add_oracle_summary_to_records(test_records, nrows=None)"
      ],
      "execution_count": 17,
      "outputs": []
    },
    {
      "cell_type": "markdown",
      "metadata": {
        "id": "mzW5CSsDSsYQ"
      },
      "source": [
        "Используй `pickle` для сохранения записей, чтобы потом не пересоздавать их потом. Если решаешь задание в колабе, можешь подключить свой гугл диск и сохранить данные в нём."
      ]
    },
    {
      "cell_type": "code",
      "metadata": {
        "colab": {
          "base_uri": "https://localhost:8080/"
        },
        "id": "LJ4Sd8y-SsYQ",
        "outputId": "8642140d-d69b-4e86-b999-d1c5111333eb"
      },
      "source": [
        "import pickle\n",
        "from google.colab import drive\n",
        "drive.mount('/content/drive')\n",
        "\n",
        "pickle_train = open(\"/content/drive/MyDrive/summar_2020/train_records.bin\",\"rb\")\n",
        "pickle_test = open(\"/content/drive/MyDrive/summar_2020/test_records.bin\",\"rb\")\n",
        "pickle_valid = open(\"/content/drive/MyDrive/summar_2020/val_records.bin\",\"rb\")\n",
        "\n",
        "ext_test_records  = pickle.load(pickle_test)\n",
        "ext_val_records = pickle.load(pickle_valid)\n",
        "ext_train_records = pickle.load(pickle_train)\n"
      ],
      "execution_count": 18,
      "outputs": [
        {
          "output_type": "stream",
          "text": [
            "Mounted at /content/drive\n"
          ],
          "name": "stdout"
        }
      ]
    },
    {
      "cell_type": "markdown",
      "metadata": {
        "id": "UlXXc8qUHC5m"
      },
      "source": [
        "## (!)\n",
        "Если надо, поменяйте код генератора датасета и батчевалки"
      ]
    },
    {
      "cell_type": "code",
      "metadata": {
        "id": "MNyxstTChK3C"
      },
      "source": [
        "import random\n",
        "import math\n",
        "import razdel\n",
        "import torch\n",
        "import numpy as np\n",
        "from rouge import Rouge\n",
        "\n",
        "\n",
        "from torch.utils import data\n",
        "\n",
        "\n",
        "class ExtDataset(data.Dataset):\n",
        "    def __init__(self, records, vocabulary, bpe_processor, lower=True, max_sentences=30, max_sentence_length=50, device=torch.device('cpu')):\n",
        "        self.records = records\n",
        "        self.num_samples = records.shape[0]\n",
        "        self.bpe_processor = bpe_processor\n",
        "        self.lower = lower\n",
        "        self.rouge = Rouge()\n",
        "        self.vocabulary = vocabulary\n",
        "        self.max_sentences = max_sentences\n",
        "        self.max_sentence_length = max_sentence_length\n",
        "        self.device = device\n",
        "        \n",
        "    def __len__(self):\n",
        "        return self.records.shape[0]\n",
        "\n",
        "    def __getitem__(self, idx):\n",
        "        cur_record = self.records.iloc[idx]\n",
        "        inputs = list(map(lambda x: x[:self.max_sentence_length], self.bpe_processor.encode(cur_record['sentences'], output_type=yttm.OutputType.ID)))\n",
        "        outputs = [int(i in cur_record['oracle_sentences']) for i in range(len(cur_record['sentences']))]\n",
        "        return {'inputs': inputs, 'outputs': outputs}"
      ],
      "execution_count": 19,
      "outputs": []
    },
    {
      "cell_type": "code",
      "metadata": {
        "id": "bvARjudojEDD"
      },
      "source": [
        "# Это батчевалка\n",
        "def collate_fn(records):\n",
        "    max_length = max(len(sentence) for record in records for sentence in record['inputs'])\n",
        "    max_sentences = max(len(record['outputs']) for record in records)\n",
        "\n",
        "    new_inputs = torch.zeros((len(records), max_sentences, max_length))\n",
        "    new_outputs = torch.zeros((len(records), max_sentences))\n",
        "    for i, record in enumerate(records):\n",
        "        for j, sentence in enumerate(record['inputs']):\n",
        "            new_inputs[i, j, :len(sentence)] += np.array(sentence)\n",
        "        new_outputs[i, :len(record['outputs'])] += np.array(record['outputs'])\n",
        "    return {'features': new_inputs.type(torch.LongTensor), 'targets': new_outputs}"
      ],
      "execution_count": 20,
      "outputs": []
    },
    {
      "cell_type": "code",
      "metadata": {
        "colab": {
          "base_uri": "https://localhost:8080/"
        },
        "id": "aWlf7XdheJUN",
        "outputId": "d9678393-ea37-48fa-f915-d28ef557ed10"
      },
      "source": [
        "import numpy as np\n",
        "\n",
        "import torch\n",
        "import torch.nn as nn\n",
        "import torch.nn.functional as F\n",
        "import torch.optim as optim\n",
        "\n",
        "from torch.nn.utils.rnn import pack_padded_sequence as pack\n",
        "from torch.nn.utils.rnn import pad_packed_sequence as unpack\n",
        "\n",
        "\n",
        "class SentenceEncoder(nn.Module):\n",
        "    # Место для вашего Sentence Encoder-а. Разрешается использовать любые методы, которые вам нравятся.\n",
        "    def __init__(self,input_size,embedding_dim,hidden_size,n_layers=3,dropout=0.3,bidirectional=True):\n",
        "      super().__init__()\n",
        "      num_directions = 2 if bidirectional else 1\n",
        "      assert hidden_size % num_directions == 0\n",
        "      hidden_size = hidden_size // num_directions\n",
        "      self.embedding_dim = embedding_dim\n",
        "      self.input_size = input_size\n",
        "      self.hidden_size = hidden_size\n",
        "      self.n_layers = n_layers\n",
        "      self.dropout = dropout\n",
        "      self.bidirectional = bidirectional\n",
        "\n",
        "      self.embedding_layer = nn.Embedding(input_size,embedding_dim)\n",
        "      self.rnn_layer = nn.LSTM(embedding_dim,hidden_size,\n",
        "                               n_layers,dropout=dropout,\n",
        "                               bidirectional=bidirectional,batch_first=True)\n",
        "      self.dropout_layer = nn.Dropout(dropout)\n",
        "\n",
        "    def forward(self, inputs, hidden=None):\n",
        "      embedded = self.embedding_layer(inputs)\n",
        "      outputs,_ = self.rnn_layer(embedded,hidden)\n",
        "      sentences_embeddings = torch.mean(outputs,1)\n",
        "      return sentences_embeddings\n",
        "\n",
        "\n",
        "\n",
        "class SentenceTaggerRNN(nn.Module):\n",
        "    def __init__(self,\n",
        "                 vocabulary_size,\n",
        "                 token_embedding_dim=256,\n",
        "                 sentence_encoder_hidden_size=256,\n",
        "                 hidden_size=256,\n",
        "                 bidirectional=True,\n",
        "                 sentence_encoder_n_layers=3,\n",
        "                 sentence_encoder_dropout=0.3,\n",
        "                 sentence_encoder_bidirectional=True,\n",
        "                 n_layers=1,\n",
        "                 dropout=0.3):\n",
        "        super(SentenceTaggerRNN, self).__init__()\n",
        "\n",
        "        num_directions = 2 if bidirectional else 1\n",
        "        assert hidden_size % num_directions == 0\n",
        "        hidden_size = hidden_size // num_directions\n",
        "\n",
        "        self.hidden_size = hidden_size\n",
        "        self.n_layers = n_layers\n",
        "        self.dropout = dropout\n",
        "        self.bidirectional = bidirectional\n",
        "\n",
        "        # Your sentence encoder model\n",
        "        self.sentence_encoder = SentenceEncoder(vocabulary_size, token_embedding_dim,\n",
        "                                                   sentence_encoder_hidden_size, sentence_encoder_n_layers, \n",
        "                                                   sentence_encoder_dropout, sentence_encoder_bidirectional)\n",
        "        \n",
        "        self.rnn_layer = nn.LSTM(\n",
        "            sentence_encoder_hidden_size, \n",
        "            hidden_size, \n",
        "            n_layers, \n",
        "            dropout=dropout,\n",
        "            bidirectional=bidirectional, \n",
        "            batch_first=True)\n",
        "        self.dropout_layer = nn.Dropout(dropout)\n",
        "        self.content_linear_layer = nn.Linear(hidden_size * 2, 1)\n",
        "        self.document_linear_layer = nn.Linear(hidden_size * 2, hidden_size * 2)\n",
        "        self.salience_linear_layer = nn.Linear(hidden_size * 2, hidden_size * 2)\n",
        "        self.tanh_layer = nn.Tanh()\n",
        "\n",
        "    def forward(self, inputs, hidden=None):\n",
        "        batch_size = inputs.size(0)\n",
        "        sentences_count = inputs.size(1)\n",
        "        tokens_count = inputs.size(2)\n",
        "        inputs = inputs.reshape(-1, tokens_count)\n",
        "        embedded_sentences = self.sentence_encoder(inputs)\n",
        "        embedded_sentences = embedded_sentences.reshape(batch_size, sentences_count, -1)\n",
        "        outputs, _ = self.rnn_layer(embedded_sentences, hidden)\n",
        "        outputs = self.dropout_layer(outputs)\n",
        "        document_embedding = self.tanh_layer(self.document_linear_layer(torch.mean(outputs, 1)))\n",
        "        content = self.content_linear_layer(outputs).squeeze(2)\n",
        "        salience = torch.bmm(outputs, self.salience_linear_layer(document_embedding).unsqueeze(2)).squeeze(2)\n",
        "        return content + salience\n",
        "\n",
        "model = SentenceTaggerRNN(vocabulary.size())"
      ],
      "execution_count": 21,
      "outputs": [
        {
          "output_type": "stream",
          "text": [
            "/usr/local/lib/python3.6/dist-packages/torch/nn/modules/rnn.py:61: UserWarning: dropout option adds dropout after all but last recurrent layer, so non-zero dropout expects num_layers greater than 1, but got dropout=0.3 and num_layers=1\n",
            "  \"num_layers={}\".format(dropout, num_layers))\n"
          ],
          "name": "stderr"
        }
      ]
    },
    {
      "cell_type": "code",
      "metadata": {
        "id": "PKIMV8QqWG3b"
      },
      "source": [
        "# with open(\"val_records.bin\", 'wb') as file:\n",
        "#     pickle.dump(ext_val_records,file,)\n",
        "\n",
        "# pickle_train = open(\"/content/drive/MyDrive/summar_2020/train_records.bin\",\"rb\")\n",
        "# pickle_test = open(\"/content/drive/MyDrive/summar_2020/test_records.bin\",\"rb\")\n",
        "# pickle_valid = open(\"/content/drive/MyDrive/summar_2020/val_records.bin\",\"rb\")\n",
        "\n",
        "# ext_test_records  = pickle.load(pickle_test)\n",
        "# ext_val_records = pickle.load(pickle_valid)\n",
        "# ext_train_records = pickle.load(pickle_train)"
      ],
      "execution_count": null,
      "outputs": []
    },
    {
      "cell_type": "markdown",
      "metadata": {
        "id": "4q2Gb6ODHHB_"
      },
      "source": [
        "### Обучение"
      ]
    },
    {
      "cell_type": "code",
      "metadata": {
        "id": "UVDW8raJeQxn"
      },
      "source": [
        "device = torch.device('cuda')\n",
        "\n",
        "loaders = {\n",
        "    'train': data.DataLoader(\n",
        "        ExtDataset(\n",
        "            ext_train_records, \n",
        "            vocabulary, \n",
        "            bpe_processor=bpe_processor\n",
        "        ), \n",
        "        batch_size=128, \n",
        "        collate_fn=collate_fn\n",
        "    ),\n",
        "    'valid': data.DataLoader(\n",
        "        ExtDataset(\n",
        "            ext_val_records, \n",
        "            vocabulary, \n",
        "            bpe_processor=bpe_processor\n",
        "        ), \n",
        "        batch_size=128, \n",
        "        collate_fn=collate_fn\n",
        "    ),\n",
        "    'test': data.DataLoader(\n",
        "        ExtDataset(\n",
        "            ext_test_records, \n",
        "            vocabulary, \n",
        "            bpe_processor=bpe_processor\n",
        "        ), \n",
        "        batch_size=64, \n",
        "        collate_fn=collate_fn\n",
        "    ),\n",
        "}\n",
        "\n",
        "lr = 12e-5\n",
        "num_epochs = 1\n",
        "\n",
        "optimizer  = torch.optim.Adam(model.parameters(), lr=lr)\n",
        "criterion = nn.BCEWithLogitsLoss()\n",
        "# Maybe adding scheduler? #8\n",
        "#тренировка модели всего 8 эпох.\n",
        "#6 эпох с рейтом 10-4, 7-8 эпоха 15*10-5"
      ],
      "execution_count": 81,
      "outputs": []
    },
    {
      "cell_type": "code",
      "metadata": {
        "id": "4J-64POMSsYQ"
      },
      "source": [
        "from tqdm.notebook import trange, tqdm\n",
        "\n",
        "\n",
        "def train():\n",
        "    model.to(device)\n",
        "    pbar_loader = trange(len(loaders[\"train\"]) + len(loaders[\"valid\"]), desc=f\"Train Loss: {0}, Valid Loss: {0}\")\n",
        "    for e in trange(num_epochs, desc=\"Epoch\"):\n",
        "        train_loss = 0\n",
        "        valid_loss = 0\n",
        "        train_it = 0\n",
        "        valid_it = 0\n",
        "        \n",
        "        model.train()\n",
        "        for batch in loaders[\"train\"]:\n",
        "            features = batch[\"features\"].to(device)\n",
        "            targets = batch[\"targets\"].to(device)\n",
        "            \n",
        "            logits = model(features)\n",
        "            \n",
        "            loss = criterion(logits, targets)\n",
        "            train_loss += loss.item()\n",
        "            train_it += 1\n",
        "            \n",
        "            optimizer.zero_grad()\n",
        "            loss.backward()\n",
        "            optimizer.step()\n",
        "            # Maybe adding scheduler?\n",
        "            \n",
        "            pbar_loader.update()\n",
        "            pbar_loader.set_description(\n",
        "                f\"Train Loss: {train_loss / train_it:.3}, Valid Loss: {0}\"\n",
        "            )\n",
        "            \n",
        "        model.eval()\n",
        "        with torch.no_grad():\n",
        "            for batch in loaders[\"valid\"]:\n",
        "                features = batch[\"features\"].to(device)\n",
        "                targets = batch[\"targets\"].to(device)\n",
        "\n",
        "                logits = model(features)\n",
        "\n",
        "                loss = criterion(logits, targets)\n",
        "                valid_loss += loss.item()\n",
        "                valid_it += 1\n",
        "                \n",
        "                pbar_loader.update()\n",
        "                pbar_loader.set_description(\n",
        "                    f\"Train Loss: {train_loss / train_it:.3},\"\n",
        "                    f\" Valid Loss: {valid_loss / valid_it:.3}\"\n",
        "                )\n",
        "        print(\n",
        "            f\"Epoch {e}; Train Loss: {train_loss / train_it:.3},\"\n",
        "            f\" Valid Loss: {valid_loss / valid_it:.3}\"\n",
        "        )\n",
        "        pbar_loader.reset()"
      ],
      "execution_count": 82,
      "outputs": []
    },
    {
      "cell_type": "code",
      "metadata": {
        "colab": {
          "base_uri": "https://localhost:8080/",
          "height": 116,
          "referenced_widgets": [
            "0efe62969adf42399ccdd567fcb5119d",
            "75d2dea391b74a60995b3e1fe6dc89fe",
            "d71abd2257b645bf907b67149625107d",
            "e78f0f4143034dc7b49152adac0d3855",
            "eeca36cce9f241478efdc0f0e768605b",
            "0f132f6e838646a083efc708cbc73c6e",
            "860aeaa937cd4b9ba2a6f6ed4ce95809",
            "591a2477a5354609a1e6ead018793f32",
            "0be8e013570143b2a74a06dc47d88be2",
            "706c858d17944bbc8f630a79f1a4eb58",
            "c5a73f8993ad406197f583514193ab5d",
            "e3e63098f3ef466c824384075b493488",
            "22acc8654ca84d05b07ba433099b34f3",
            "e07220d012db4506bb93260a09908966",
            "6660bb4d3bc14055b5dc6e98ebad221e",
            "bf5ae6b24f0b4a19a8e379bd17e89f0e"
          ]
        },
        "id": "4LdpR6YrSsYQ",
        "outputId": "0fd9efa5-4047-4cfd-b50a-600170a12390"
      },
      "source": [
        "train()"
      ],
      "execution_count": 83,
      "outputs": [
        {
          "output_type": "display_data",
          "data": {
            "application/vnd.jupyter.widget-view+json": {
              "model_id": "0efe62969adf42399ccdd567fcb5119d",
              "version_minor": 0,
              "version_major": 2
            },
            "text/plain": [
              "HBox(children=(FloatProgress(value=0.0, description='Train Loss: 0, Valid Loss: 0', max=277.0, style=ProgressS…"
            ]
          },
          "metadata": {
            "tags": []
          }
        },
        {
          "output_type": "display_data",
          "data": {
            "application/vnd.jupyter.widget-view+json": {
              "model_id": "0be8e013570143b2a74a06dc47d88be2",
              "version_minor": 0,
              "version_major": 2
            },
            "text/plain": [
              "HBox(children=(FloatProgress(value=0.0, description='Epoch', max=1.0, style=ProgressStyle(description_width='i…"
            ]
          },
          "metadata": {
            "tags": []
          }
        },
        {
          "output_type": "stream",
          "text": [
            "Epoch 0; Train Loss: 0.173, Valid Loss: 0.176\n",
            "\n"
          ],
          "name": "stdout"
        }
      ]
    },
    {
      "cell_type": "code",
      "metadata": {
        "colab": {
          "base_uri": "https://localhost:8080/",
          "height": 173,
          "referenced_widgets": [
            "3e2b1754d7db45058e831aae0ce8d960",
            "ef93b4097c3b4515994be2b74757d2a2",
            "3faaf2dbbe874e0b84575553c477d819",
            "76ee13949e0a4c21a67830fbb134582e",
            "1dceafee1e63446ba59c75aeadf1a15c",
            "f886527f976c408db339ec0851333e1b",
            "9c0c4c3cf71940119f74ed398d7cc58b",
            "b285012e59d34376bcb3ccf414242503"
          ]
        },
        "id": "EwqhK2dyKuGL",
        "outputId": "5558ddc2-2cd0-4c2b-c16c-353b5ca0f644"
      },
      "source": [
        "device = torch.device(\"cuda\")\n",
        "import re\n",
        "def punct_detokenize(text):\n",
        "    text = text.strip()\n",
        "    punctuation = \",.!?:;%\"\n",
        "    closing_punctuation = \")]}\"\n",
        "    opening_punctuation = \"([}\"\n",
        "    for ch in punctuation + closing_punctuation:\n",
        "        text = text.replace(\" \" + ch, ch)\n",
        "    for ch in opening_punctuation:\n",
        "        text = text.replace(ch + \" \", ch)\n",
        "    res = [r'\"\\s[^\"]+\\s\"', r\"'\\s[^']+\\s'\"]\n",
        "    for r in res:\n",
        "        for f in re.findall(r, text, re.U):\n",
        "            text = text.replace(f, f[0] + f[2:-2] + f[-1])\n",
        "    text = text.replace(\"' s\", \"'s\").replace(\" 's\", \"'s\")\n",
        "    text = text.strip()\n",
        "    return text\n",
        "\n",
        "def postprocess(ref, hyp, is_multiple_ref=False, detokenize_after=False, tokenize_after=True):\n",
        "    if is_multiple_ref:\n",
        "        reference_sents = ref.split(\" s_s \")\n",
        "        decoded_sents = hyp.split(\"s_s\")\n",
        "        hyp = [w.replace(\"<\", \"&lt;\").replace(\">\", \"&gt;\").strip() for w in decoded_sents]\n",
        "        ref = [w.replace(\"<\", \"&lt;\").replace(\">\", \"&gt;\").strip() for w in reference_sents]\n",
        "        hyp = \" \".join(hyp)\n",
        "        ref = \" \".join(ref)\n",
        "    ref = ref.strip()\n",
        "    hyp = hyp.strip()\n",
        "    if detokenize_after:\n",
        "        hyp = punct_detokenize(hyp)\n",
        "        ref = punct_detokenize(ref)\n",
        "    if tokenize_after:\n",
        "        hyp = hyp.replace(\"@@UNKNOWN@@\", \"<unk>\")\n",
        "        hyp = \" \".join([token.text for token in razdel.tokenize(hyp)])\n",
        "        ref = \" \".join([token.text for token in razdel.tokenize(ref)])\n",
        "    return ref, hyp    \n",
        "\n",
        "references = []\n",
        "predictions = []\n",
        "model.eval()\n",
        "\n",
        "for num, item in tqdm(enumerate(loaders[\"test\"]), total=len(loaders[\"test\"])):\n",
        "    logits = model(item[\"features\"].to(device))[0]\n",
        "    log_sort = torch.argsort(logits, dim=0)[-3:]\n",
        "    \n",
        "    record = ext_test_records.iloc[num]\n",
        "    predicted_summary = []\n",
        "    #print(item['targets'].shape,'target')\n",
        "    #print(logits,'logits')\n",
        "    \n",
        "    # for i, logit in enumerate(logits):\n",
        "    #     if logit > 0.0:\n",
        "    #         print('In!')\n",
        "    #         predicted_summary.append(record['sentences'][i])\n",
        "        \n",
        "\n",
        "    # if not predicted_summary:\n",
        "    #    predicted_summary.append(record['sentences'][log_sort[-1].item()])\n",
        "    predicted_summary.append(record['sentences'][log_sort[-1].item()])\n",
        "    predicted_summary.append(record['sentences'][log_sort[-2].item()])\n",
        "    predicted_summary.append(record['sentences'][log_sort[-3].item()])\n",
        "\n",
        "    predicted_summary = \" \".join(predicted_summary)\n",
        "    summary, predicted_summary= postprocess(record['summary'], predicted_summary)\n",
        "    \n",
        "    references.append(summary)\n",
        "    predictions.append(predicted_summary)\n",
        "\n",
        "calc_scores(references, predictions)"
      ],
      "execution_count": 89,
      "outputs": [
        {
          "output_type": "display_data",
          "data": {
            "application/vnd.jupyter.widget-view+json": {
              "model_id": "3e2b1754d7db45058e831aae0ce8d960",
              "version_minor": 0,
              "version_major": 2
            },
            "text/plain": [
              "HBox(children=(FloatProgress(value=0.0, max=91.0), HTML(value='')))"
            ]
          },
          "metadata": {
            "tags": []
          }
        },
        {
          "output_type": "stream",
          "text": [
            "\n",
            "Count: 91\n",
            "Ref: У детей , рожденных из замороженных эмбрионов , риск развития рака в 2,4 раза выше , чем у тех , кто был зачат естественным путем , выяснили датские специалисты . Самые частые его виды — лейкемия и опухоли нервной системы . Однако относительный риск все равно невелик , успокаивают исследователи .\n",
            "Hyp: заморозка эмбрионов перед эко повышает риск развития рака у детей в 2,4 раза , предупреждают исследователи из датского исследовательского центра общества борьбы с раком . чаще всего — в трети случаев — это была лейкемия . предположительно , заморозка влияет на процессы внутриутробного роста , и , возможно , именно они в итоге повышают риск развития рака .\n",
            "BLEU:  0.40782866856104727\n",
            "ROUGE:  {'rouge-1': {'f': 0.22833328703226322, 'p': 0.22227919501914958, 'r': 0.2498889579265903}, 'rouge-2': {'f': 0.07757583606699943, 'p': 0.07439124853358245, 'r': 0.08682461962409739}, 'rouge-l': {'f': 0.1964914917409234, 'p': 0.20161242681721261, 'r': 0.22503385889361047}}\n"
          ],
          "name": "stdout"
        }
      ]
    },
    {
      "cell_type": "code",
      "metadata": {
        "id": "oacIw7sOWqMj"
      },
      "source": [
        ""
      ],
      "execution_count": null,
      "outputs": []
    }
  ]
}